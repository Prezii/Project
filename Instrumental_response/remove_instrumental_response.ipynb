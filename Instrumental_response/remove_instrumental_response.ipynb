{
  "nbformat": 4,
  "nbformat_minor": 0,
  "metadata": {
    "colab": {
      "provenance": [],
      "collapsed_sections": [],
      "authorship_tag": "ABX9TyPjzwPvchceG4QXzAw1FiNy",
      "include_colab_link": true
    },
    "kernelspec": {
      "name": "python3",
      "display_name": "Python 3"
    },
    "language_info": {
      "name": "python"
    }
  },
  "cells": [
    {
      "cell_type": "markdown",
      "metadata": {
        "id": "view-in-github",
        "colab_type": "text"
      },
      "source": [
        "<a href=\"https://colab.research.google.com/github/Prezii/Project/blob/main/Instrumental_response/remove_instrumental_response.ipynb\" target=\"_parent\"><img src=\"https://colab.research.google.com/assets/colab-badge.svg\" alt=\"Open In Colab\"/></a>"
      ]
    },
    {
      "cell_type": "markdown",
      "source": [
        "Las llegadas son un special case in the graph"
      ],
      "metadata": {
        "id": "kRraDZBj358C"
      }
    },
    {
      "cell_type": "markdown",
      "source": [
        "##Recomendaciones previas"
      ],
      "metadata": {
        "id": "xVbKzRSyPEm0"
      }
    },
    {
      "cell_type": "code",
      "source": [
        "import sys\n",
        "!{sys.executable} -m pip install obspy\n",
        "import obspy"
      ],
      "metadata": {
        "colab": {
          "base_uri": "https://localhost:8080/"
        },
        "id": "9nlQa2p6RKOH",
        "outputId": "4eabca35-c1a9-4d1a-8ed3-ee47086d3407"
      },
      "execution_count": null,
      "outputs": [
        {
          "output_type": "stream",
          "name": "stdout",
          "text": [
            "Looking in indexes: https://pypi.org/simple, https://us-python.pkg.dev/colab-wheels/public/simple/\n",
            "Requirement already satisfied: obspy in /usr/local/lib/python3.7/dist-packages (1.3.0)\n",
            "Requirement already satisfied: lxml in /usr/local/lib/python3.7/dist-packages (from obspy) (4.9.1)\n",
            "Requirement already satisfied: matplotlib>=3.2.0 in /usr/local/lib/python3.7/dist-packages (from obspy) (3.2.2)\n",
            "Requirement already satisfied: requests in /usr/local/lib/python3.7/dist-packages (from obspy) (2.23.0)\n",
            "Requirement already satisfied: sqlalchemy in /usr/local/lib/python3.7/dist-packages (from obspy) (1.4.41)\n",
            "Requirement already satisfied: decorator in /usr/local/lib/python3.7/dist-packages (from obspy) (4.4.2)\n",
            "Requirement already satisfied: scipy>=1.0.0 in /usr/local/lib/python3.7/dist-packages (from obspy) (1.7.3)\n",
            "Requirement already satisfied: setuptools in /usr/local/lib/python3.7/dist-packages (from obspy) (57.4.0)\n",
            "Requirement already satisfied: numpy>=1.15.0 in /usr/local/lib/python3.7/dist-packages (from obspy) (1.21.6)\n",
            "Requirement already satisfied: python-dateutil>=2.1 in /usr/local/lib/python3.7/dist-packages (from matplotlib>=3.2.0->obspy) (2.8.2)\n",
            "Requirement already satisfied: pyparsing!=2.0.4,!=2.1.2,!=2.1.6,>=2.0.1 in /usr/local/lib/python3.7/dist-packages (from matplotlib>=3.2.0->obspy) (3.0.9)\n",
            "Requirement already satisfied: cycler>=0.10 in /usr/local/lib/python3.7/dist-packages (from matplotlib>=3.2.0->obspy) (0.11.0)\n",
            "Requirement already satisfied: kiwisolver>=1.0.1 in /usr/local/lib/python3.7/dist-packages (from matplotlib>=3.2.0->obspy) (1.4.4)\n",
            "Requirement already satisfied: typing-extensions in /usr/local/lib/python3.7/dist-packages (from kiwisolver>=1.0.1->matplotlib>=3.2.0->obspy) (4.1.1)\n",
            "Requirement already satisfied: six>=1.5 in /usr/local/lib/python3.7/dist-packages (from python-dateutil>=2.1->matplotlib>=3.2.0->obspy) (1.15.0)\n",
            "Requirement already satisfied: chardet<4,>=3.0.2 in /usr/local/lib/python3.7/dist-packages (from requests->obspy) (3.0.4)\n",
            "Requirement already satisfied: urllib3!=1.25.0,!=1.25.1,<1.26,>=1.21.1 in /usr/local/lib/python3.7/dist-packages (from requests->obspy) (1.24.3)\n",
            "Requirement already satisfied: idna<3,>=2.5 in /usr/local/lib/python3.7/dist-packages (from requests->obspy) (2.10)\n",
            "Requirement already satisfied: certifi>=2017.4.17 in /usr/local/lib/python3.7/dist-packages (from requests->obspy) (2022.6.15)\n",
            "Requirement already satisfied: greenlet!=0.4.17 in /usr/local/lib/python3.7/dist-packages (from sqlalchemy->obspy) (1.1.3)\n",
            "Requirement already satisfied: importlib-metadata in /usr/local/lib/python3.7/dist-packages (from sqlalchemy->obspy) (4.12.0)\n",
            "Requirement already satisfied: zipp>=0.5 in /usr/local/lib/python3.7/dist-packages (from importlib-metadata->sqlalchemy->obspy) (3.8.1)\n"
          ]
        }
      ]
    },
    {
      "cell_type": "code",
      "source": [
        "from obspy.clients.fdsn import Client\n",
        "from obspy import UTCDateTime\n",
        "client = Client(\"IRIS\")\n",
        "network = \"CN\" #Canadian National Seismograph Network\n",
        "station = \"PGC\"\n",
        "location=\"*\"\n",
        "channel= \"BHE\""
      ],
      "metadata": {
        "id": "AfcHqXC1RQNe"
      },
      "execution_count": null,
      "outputs": []
    },
    {
      "cell_type": "code",
      "source": [
        "starttime= UTCDateTime('2015-07-14T02:27:30') \n",
        "endtime = starttime + 300 # 5 min = 300 sec"
      ],
      "metadata": {
        "id": "k6s_JqBKRqNG"
      },
      "execution_count": null,
      "outputs": []
    },
    {
      "cell_type": "code",
      "source": [
        "inv = client.get_stations(network=network, station=station, channel=channel,starttime=starttime,endtime=endtime,level=\"response\")\n",
        "print(inv)"
      ],
      "metadata": {
        "colab": {
          "base_uri": "https://localhost:8080/"
        },
        "id": "dnmTfiVIRsTA",
        "outputId": "0041ad15-c857-4edf-858b-1be9752ec1b6"
      },
      "execution_count": null,
      "outputs": [
        {
          "output_type": "stream",
          "name": "stdout",
          "text": [
            "Inventory created at 2022-09-13T19:43:00.839200Z\n",
            "\tCreated by: IRIS WEB SERVICE: fdsnws-station | version: 1.1.49\n",
            "\t\t    http://service.iris.edu/fdsnws/station/1/query?starttime=2015-07-14...\n",
            "\tSending institution: IRIS-DMC (IRIS-DMC)\n",
            "\tContains:\n",
            "\t\tNetworks (1):\n",
            "\t\t\tCN\n",
            "\t\tStations (1):\n",
            "\t\t\tCN.PGC (Sidney, BC, CA)\n",
            "\t\tChannels (1):\n",
            "\t\t\tCN.PGC..BHE\n"
          ]
        }
      ]
    },
    {
      "cell_type": "code",
      "source": [
        "st = client.get_waveforms(network=network, station = station, location = location, channel = channel , starttime=starttime, endtime=endtime, attach_response=True)\n",
        "st_orig = st.copy()\n",
        "tr = st[0]\n",
        "print(tr)"
      ],
      "metadata": {
        "colab": {
          "base_uri": "https://localhost:8080/"
        },
        "id": "x7uz6YkPXwa8",
        "outputId": "d8c74233-0301-4a66-8ed6-edc43a6c6de9"
      },
      "execution_count": null,
      "outputs": [
        {
          "output_type": "stream",
          "name": "stdout",
          "text": [
            "CN.PGC..BHE | 2015-07-14T02:27:30.000000Z - 2015-07-14T02:32:30.000000Z | 40.0 Hz, 12001 samples\n"
          ]
        }
      ]
    },
    {
      "cell_type": "code",
      "source": [
        "tr.plot()"
      ],
      "metadata": {
        "colab": {
          "base_uri": "https://localhost:8080/",
          "height": 491
        },
        "id": "_7a7LvlLYUuh",
        "outputId": "49079d3d-4214-497c-806f-4ba55c3e2d5c"
      },
      "execution_count": null,
      "outputs": [
        {
          "output_type": "display_data",
          "data": {
            "text/plain": [
              "<Figure size 800x250 with 1 Axes>"
            ],
            "image/png": "[encoded data removed]"
          },
          "metadata": {
            "needs_background": "light"
          }
        },
        {
          "output_type": "execute_result",
          "data": {
            "text/plain": [
              "<Figure size 800x250 with 1 Axes>"
            ],
            "image/png": "[encoded data removed]"
          },
          "metadata": {},
          "execution_count": 19
        }
      ]
    },
    {
      "cell_type": "code",
      "source": [
        "tr.stats"
      ],
      "metadata": {
        "colab": {
          "base_uri": "https://localhost:8080/"
        },
        "id": "1XNI9NN4Y9CH",
        "outputId": "35c5e481-c114-42f2-b9af-8783e924e922"
      },
      "execution_count": null,
      "outputs": [
        {
          "output_type": "execute_result",
          "data": {
            "text/plain": [
              "               network: CN\n",
              "               station: PGC\n",
              "              location: \n",
              "               channel: BHE\n",
              "             starttime: 2015-07-14T02:27:30.000000Z\n",
              "               endtime: 2015-07-14T02:32:30.000000Z\n",
              "         sampling_rate: 40.0\n",
              "                 delta: 0.025\n",
              "                  npts: 12001\n",
              "                 calib: 1.0\n",
              "_fdsnws_dataselect_url: http://service.iris.edu/fdsnws/dataselect/1/query\n",
              "               _format: MSEED\n",
              "                 mseed: AttribDict({'dataquality': 'M', 'number_of_records': 6, 'encoding': 'STEIM2', 'byteorder': '>', 'record_length': 4096, 'filesize': 24576})\n",
              "            processing: ['ObsPy 1.3.0: trim(endtime=UTCDateTime(2015, 7, 14, 2, 32, 30)::fill_value=None::nearest_sample=True::pad=False::starttime=UTCDateTime(2015, 7, 14, 2, 27, 30))']\n",
              "              response: Channel Response\n",
              "\tFrom m/s (velocity in meters per second) to counts (digital counts)\n",
              "\tOverall Sensitivity: 5.09133e+09 defined at 0.100 Hz\n",
              "\t6 stages:\n",
              "\t\tStage 1: PolesZerosResponseStage from m/s to V, gain: 1517.33\n",
              "\t\tStage 2: PolesZerosResponseStage from V to V, gain: 3.3554e+06\n",
              "\t\tStage 3: CoefficientsTypeResponseStage from V to counts, gain: 1\n",
              "\t\tStage 4: CoefficientsTypeResponseStage from counts to counts, gain: 1\n",
              "\t\tStage 5: CoefficientsTypeResponseStage from counts to counts, gain: 1\n",
              "\t\tStage 6: CoefficientsTypeResponseStage from counts to counts, gain: 1"
            ]
          },
          "metadata": {},
          "execution_count": 20
        }
      ]
    },
    {
      "cell_type": "code",
      "source": [
        "print(f\"eje x {tr.times()} eje y {tr.data}\")\n"
      ],
      "metadata": {
        "colab": {
          "base_uri": "https://localhost:8080/"
        },
        "id": "MQqGXwgSdpUI",
        "outputId": "74902fbb-88ec-49e0-9898-7b8197164ebf"
      },
      "execution_count": null,
      "outputs": [
        {
          "output_type": "stream",
          "name": "stdout",
          "text": [
            "eje x [0.00000e+00 2.50000e-02 5.00000e-02 ... 2.99950e+02 2.99975e+02\n",
            " 3.00000e+02] eje y [ 2305  2178  2257 ... -1403 -1576 -1501]\n"
          ]
        }
      ]
    },
    {
      "cell_type": "code",
      "source": [
        "#Poles, Zeros, Gain, sensibility\n",
        "#Example\n",
        "#paz_sts2 = {'poles': [-0.037004+0.037016j, -0.037004-0.037016j,\n",
        "#                     -251.33+0j,\n",
        "#                      -131.04-467.29j, -131.04+467.29j],\n",
        "#            'zeros': [0j, 0j],\n",
        "#            'gain': 60077000.0,\n",
        "#            'sensitivity': 2516778400.0}"
      ],
      "metadata": {
        "id": "i-DVjy0maMg1"
      },
      "execution_count": null,
      "outputs": []
    },
    {
      "cell_type": "code",
      "source": [
        "#Pre fit\n",
        "pre_filt = (0.002, 0.004, 0.5, 1) #Unitl 18 herts\n",
        "#Watch if there is good in plot\n",
        "\n",
        "#Hacer primero el detrend\n",
        "tr.detrend(\"demean\")\n",
        "tr.detrend(\"linear\")\n",
        "tr.taper(0.05)\n"
      ],
      "metadata": {
        "colab": {
          "base_uri": "https://localhost:8080/"
        },
        "id": "qs4wJBLNPHb-",
        "outputId": "1beed68f-40a4-48a8-e068-25b4257c8130"
      },
      "execution_count": null,
      "outputs": [
        {
          "output_type": "execute_result",
          "data": {
            "text/plain": [
              "CN.PGC..BHE | 2015-07-14T02:27:30.000000Z - 2015-07-14T02:32:30.000000Z | 40.0 Hz, 12001 samples"
            ]
          },
          "metadata": {},
          "execution_count": 21
        }
      ]
    },
    {
      "cell_type": "code",
      "source": [
        "\n",
        "#respf = \"//name of the file//\"\n",
        "#seedresp = {'filename': respf,'date': starttime,'units': 'DIS'}\n",
        "\n",
        "##Example of seedresp\n",
        "\"\"\"\n",
        "seedresp = {'filename': respf,  # RESP filename\n",
        "                # when using Trace/Stream.simulate() the \"date\" parameter can\n",
        "                # also be omitted, and the starttime of the trace is then used.\n",
        "                'date': date,\n",
        "                # Units to return response in ('DIS', 'VEL' or ACC)\n",
        "                'units': 'DIS'\n",
        "                }\n",
        "\"\"\"\n",
        "# Remove instrument response using the information from the given RESP file\n",
        "#tr.simulate(paz_remove=None, pre_filt=pre_filt, seedresp=seedresp)\n",
        "USE REMOVE RESPONSE\n",
        "\n",
        "##\n",
        "##st_orig = st.copy()\n",
        "\n",
        "\n",
        "# plot original and simulated data\n",
        "tr = st[0]\n",
        "tr_orig = st_orig[0]\n",
        "time = tr.times()\n",
        "\n",
        "plt.subplot(211)\n",
        "plt.plot(time, tr_orig.data, 'k')\n",
        "plt.ylabel('STS-2 [counts]')\n",
        "plt.subplot(212)\n",
        "plt.plot(time, tr.data, 'k')\n",
        "plt.ylabel('Displacement [m]')\n",
        "plt.xlabel('Time [s]')\n",
        "plt.show()"
      ],
      "metadata": {
        "id": "i0UHa5jwb-Y4"
      },
      "execution_count": null,
      "outputs": []
    },
    {
      "cell_type": "code",
      "source": [
        "            #Parameters of pre-filtering for instrument response removal (careful to fit with resampling sampling rate)\n",
        "            pre_filt = (0.002, 0.004, 0.5, 1)\n",
        "            #Band-pass filter limits for final waveforms\n",
        "            freqmin=0.03\n",
        "            freqmax=0.09\n",
        "        \n",
        "            tr = st.copy()\n",
        "            # Include station location for further processing\n",
        "            tr[i].stats.latitude=station_latitude\n",
        "            tr[i].stats.longitude=station_longitude\n",
        "        \n",
        "            if(Plot==True):\n",
        "              print (\"XXXXXXXXXXXXXXXXXXXXXXXXXXXXXXXXXXXX Raw trace XXXXXXXXXXXXXXXXXXXXXXXXXXXXXXXXXXXXXXXXX\")\n",
        "              tr[i].plot()\n",
        "\n",
        "        tr[i].detrend(\"demean\")\n",
        "        tr[i].detrend(\"linear\")\n",
        "        tr[i].taper(0.05)\n",
        "\n",
        "        ###First it is necessary to remove the instrument response\n",
        "        # Response from pzfiles of the SGC\n",
        "        tr[i].simulate(paz_remove=None, pre_filt=pre_filt, seedresp=seedresp)\n",
        "        \n",
        "        #tr[0].simulate(paz_remove=None, pre_filt=pre_filt, seedresp=seedresp1)\n",
        "        #tr[1].simulate(paz_remove=None, pre_filt=pre_filt, seedresp=seedresp2)\n",
        "        #tr[2].simulate(paz_remove=None, pre_filt=pre_filt, seedresp=seedresp)\n",
        "        #try:\n",
        "            #tr.remove_response(output=\"DISP\",inventory=invresp,pre_filt=pre_filt,plot=Plot)\n",
        "            #tr.simulate(paz_remove=None, pre_filt=pre_filt, seedresp=seedresp)\n",
        "        #    tr.data = seisSim(tr.data,tr.stats.sampling_rate,paz_remove=None,remove_sensitivity=False,pre_filt=pre_filt,seedresp=seedresp)\n",
        "        #except:\n",
        "        #    tr.remove_response(output=\"DISP\",inventory=inv,pre_filt=pre_filt,plot=Plot)\n",
        "        #    print (station+\" response removed from IRIS metadata\")\n",
        "        \n",
        "        \n",
        "        if(Plot==True):\n",
        "            print (\"XXXXXXXXXXXXXXXXXXXXXXXXXXXXXXXXXXXX Removed response XXXXXXXXXXXXXXXXXXXXXXXXXXXXXXXXXX\")\n",
        "            tr[i].plot()\n",
        "        \n",
        "        #try:\n",
        "            #We dont need all the points to invert the data. Lancsoz interpolation is the best\n",
        "            #method to do this but sometimes it doesn't works so we use the exception.\n",
        "        #    tr.interpolate(sampling_rate=sr, method=\"lanczos\", starttime=tr[0].stats.starttime,\n",
        "        #                   window=\"blackman\", a=12,time_shift=0.0, npts=pts)\n",
        "        #except:\n",
        "        \n",
        "        tr[i].interpolate(sampling_rate=sr,method=\"lanczos\",window=\"blackman\",a=12,time_shift=0.0)\n",
        "        \n",
        "        # tr.resample(sr)"
      ],
      "metadata": {
        "id": "GEQUvh5HNUVr"
      },
      "execution_count": null,
      "outputs": []
    },
    {
      "cell_type": "code",
      "execution_count": null,
      "metadata": {
        "id": "aLEIb-ds4eMU"
      },
      "outputs": [],
      "source": [
        "def nearFieldProcessing(traces,respath,cat,secBeforeP=10,event_depth= 18.0,\n",
        "                        event_longitude=-76.234, event_latitude=7.238,\n",
        "                        starttime=obspy.UTCDateTime(2016,9,14,1,58,10),\n",
        "                        endtime=obspy.UTCDateTime(2016,9,14,3,58,31),Plot=True):\n",
        "    '''\n",
        "    Function that process the traces.\n",
        "    secBeforeP=The time before the p wave arrival.\n",
        "    secAfterP=The time after the p wave arrival.\n",
        "    Event depth in km.\n",
        "    Everything defaults to the mutata earthquake.\n",
        "    \n",
        "    It returns a stream object.\n",
        "    Stream is an object from obspy that saves the data of each trace AFTER PROCESSING IT.\n",
        "    \n",
        "    Plot=True if you want to see the complete process\n",
        "    '''\n",
        "    \n",
        "\n",
        "    #Parameters of pre-filtering for instrument response removal (careful to fit with resampling sampling rate)\n",
        "    pre_filt = (0.002, 0.004, 0.5, 1)\n",
        "    #Band-pass filter limits for final waveforms\n",
        "    freqmin=0.03\n",
        "    freqmax=0.09\n",
        "    #Resampling parameters: to adjust with synthetics (sampling rate)\n",
        "    sr=2 #sampling rate\n",
        "    dt=1.0/sr #delta\n",
        "    pts=220 #number of points (length of signal * sampling rate)\n",
        "\n",
        "    \n",
        "    stream=obspy.Stream()\n",
        "    for i in range(len(traces)):\n",
        "        print(\"Trace number \"+str(i+1)+\"/\"+str(len(traces))+\" in stream traces\")\n",
        "        st = traces.copy()\n",
        "        ###Get data from the seed file\n",
        "        station=st[i].stats.station\n",
        "        network=st[i].stats.network\n",
        "        channel=st[i].stats.channel\n",
        "        location=st[i].stats.location\n",
        "        \n",
        "        filesta = open(respath+\"stalocs.txt\", 'r')\n",
        "        lines = filesta.readlines()\n",
        "        filesta.close()\n",
        "        for line in lines[1:]:\n",
        "            p = line.split()\n",
        "            if p[0] == station:\n",
        "                station_latitude = float(p[1])\n",
        "                station_longitude = float(p[2])\n",
        "                break\n",
        "        \n",
        "        ####Get pz info from RESP files provided by the SGC####\n",
        "        #invresp = read_inventory(respath+\"RESP.\"+network+\".\"+station+\".00.BHZ\",format=\"RESP\")\n",
        "        respf = respath+\"RESP.\"+network+\".\"+station+\".\"+location+\".\"+channel\n",
        "        seedresp = {'filename': respf,'date': starttime,'units': 'DIS'}\n",
        "        \n",
        "        #respf = respath+\"RESP.\"+network+\".\"+station+\".00.BHZ\"\n",
        "        #seedresp = {'filename': respf,'date': starttime,'units': 'VEL'} #VEL or DIS?\n",
        "        #if os.path.exists(respath+\"RESP.\"+network+\".\"+station+\".00.BH1\"):\n",
        "        #    respf = respath+\"RESP.\"+network+\".\"+station+\".00.BH1\"\n",
        "        #    seedresp1 = {'filename': respf,'date': starttime,'units': 'VEL'} #VEL or DIS?\n",
        "        #    respf = respath+\"RESP.\"+network+\".\"+station+\".00.BH2\"\n",
        "        #    seedresp2 = {'filename': respf,'date': starttime,'units': 'VEL'} #VEL or DIS?\n",
        "        #else:\n",
        "        #    respf = respath+\"RESP.\"+network+\".\"+station+\".00.BHE\"\n",
        "        #    seedresp1 = {'filename': respf,'date': starttime,'units': 'VEL'} #VEL or DIS?\n",
        "        #    respf = respath+\"RESP.\"+network+\".\"+station+\".00.BHN\"\n",
        "        #    seedresp2 = {'filename': respf,'date': starttime,'units': 'VEL'} #VEL or DIS?\n",
        "        \n",
        "        \n",
        "        #####Station code, distance in degrees, and azimuthal distance.\n",
        "        \n",
        "        from obspy.clients.iris import Client\n",
        "        client = Client()\n",
        "        distance=client.distaz(stalat=station_latitude, stalon=station_longitude, \n",
        "                               evtlat=event_latitude, evtlon=event_longitude)['distance']\n",
        "        \n",
        "        ###########################Processing stages################################################################\n",
        "        ####First we calculate the theoretical p-wave arrivals in order to trim the trace with just pwave.\n",
        "        m = TauPyModel(\"ak135f_no_mud\")\n",
        "        arrivals = m.get_ray_paths(source_depth_in_km=event_depth, distance_in_degree=float(distance), phase_list=[\"ttbasic\"])\n",
        "        arrtmp = m.get_ray_paths(source_depth_in_km=event_depth, distance_in_degree=float(distance), phase_list=[\"P\",\"S\"])\n",
        "        # Print key arrivals timings to determine the amount of signal you want in the inversion\n",
        "        print(arrtmp)\n",
        "        \n",
        "        if(Plot==True):\n",
        "            m.get_ray_paths_geo(source_depth_in_km=event_depth, source_latitude_in_deg=event_latitude,\n",
        "                            source_longitude_in_deg=event_longitude, receiver_latitude_in_deg=station_latitude,\n",
        "                            receiver_longitude_in_deg=station_longitude, phase_list=[\"P\", \"S\", \"PP\"]).plot_rays()\n",
        "        \n",
        "        tr = st.copy()\n",
        "        # Include station location for further processing\n",
        "        tr[i].stats.latitude=station_latitude\n",
        "        tr[i].stats.longitude=station_longitude\n",
        "        \n",
        "        if(Plot==True):\n",
        "            print (\"XXXXXXXXXXXXXXXXXXXXXXXXXXXXXXXXXXXX Raw trace XXXXXXXXXXXXXXXXXXXXXXXXXXXXXXXXXXXXXXXXX\")\n",
        "            tr[i].plot()\n",
        "\n",
        "        tr[i].detrend(\"demean\")\n",
        "        tr[i].detrend(\"linear\")\n",
        "        tr[i].taper(0.05)\n",
        "\n",
        "        ###First it is necessary to remove the instrument response\n",
        "        # Response from pzfiles of the SGC\n",
        "        tr[i].simulate(paz_remove=None, pre_filt=pre_filt, seedresp=seedresp)\n",
        "        \n",
        "        #tr[0].simulate(paz_remove=None, pre_filt=pre_filt, seedresp=seedresp1)\n",
        "        #tr[1].simulate(paz_remove=None, pre_filt=pre_filt, seedresp=seedresp2)\n",
        "        #tr[2].simulate(paz_remove=None, pre_filt=pre_filt, seedresp=seedresp)\n",
        "        #try:\n",
        "            #tr.remove_response(output=\"DISP\",inventory=invresp,pre_filt=pre_filt,plot=Plot)\n",
        "            #tr.simulate(paz_remove=None, pre_filt=pre_filt, seedresp=seedresp)\n",
        "        #    tr.data = seisSim(tr.data,tr.stats.sampling_rate,paz_remove=None,remove_sensitivity=False,pre_filt=pre_filt,seedresp=seedresp)\n",
        "        #except:\n",
        "        #    tr.remove_response(output=\"DISP\",inventory=inv,pre_filt=pre_filt,plot=Plot)\n",
        "        #    print (station+\" response removed from IRIS metadata\")\n",
        "        \n",
        "        \n",
        "        if(Plot==True):\n",
        "            print (\"XXXXXXXXXXXXXXXXXXXXXXXXXXXXXXXXXXXX Removed response XXXXXXXXXXXXXXXXXXXXXXXXXXXXXXXXXX\")\n",
        "            tr[i].plot()\n",
        "        \n",
        "        #try:\n",
        "            #We dont need all the points to invert the data. Lancsoz interpolation is the best\n",
        "            #method to do this but sometimes it doesn't works so we use the exception.\n",
        "        #    tr.interpolate(sampling_rate=sr, method=\"lanczos\", starttime=tr[0].stats.starttime,\n",
        "        #                   window=\"blackman\", a=12,time_shift=0.0, npts=pts)\n",
        "        #except:\n",
        "        \n",
        "        tr[i].interpolate(sampling_rate=sr,method=\"lanczos\",window=\"blackman\",a=12,time_shift=0.0)\n",
        "        \n",
        "        # tr.resample(sr)\n",
        "        \n",
        "        if(Plot==True):\n",
        "            print (\"XXXXXXXXXXXXXXXXXXXXXXXXXXXXXXX Interpolated trace XXXXXXXXXXXXXXXXXXXXXXXXXXXXXXXXXXXXX\")\n",
        "            tr[i].plot()\n",
        "        \n",
        "        # Cut window around the P wave arrival using theoretical travel times from Taup.\n",
        "        origin = cat[0].origins[0]\n",
        "        first_arrival = origin.time + arrivals[0].time\n",
        "\n",
        "        trimstarttime=first_arrival-secBeforeP\n",
        "        trimendtime=first_arrival+secAfterP\n",
        "        tr[i].trim(trimstarttime,trimendtime)\n",
        "        \n",
        "        if(Plot==True):\n",
        "            print (\"XXXXXXXXXXXXXXXXXXXXXXXXX Trimed trace before and after p-arrival XXXXXXXXXXXXXXXXXXXXXX\")\n",
        "            tr[i].plot()\n",
        "        \n",
        "        tr[i].filter(\"bandpass\", freqmin=freqmin, freqmax=freqmax, corners=3)\n",
        "        \n",
        "        if(Plot==True):\n",
        "            print('XXXXXXXXXXXXXXXXXXXXXXXXXXXXXXXXXXX Filtered Trace XXXXXXXXXXXXXXXXXXXXXXXXXXXXXXXXXXXXXX')\n",
        "            tr[i].plot()\n",
        "        \n",
        "        print(station,'Trim start time:', trimstarttime, 'Trim end time:',trimendtime)\n",
        "        print(station,'Resampled to: dt=',tr[i].stats.delta, 'number of points=',tr[i].stats.npts)\n",
        "        \n",
        "        stream+=tr[i]\n",
        "    \n",
        "    # Rotation part, we need the traces in the components N, Z and E\n",
        "    stream2=obspy.Stream()\n",
        "    # Make a list of stations\n",
        "    statmp=[]\n",
        "    for i in range(len(stream)):\n",
        "        station=stream[i].stats.station\n",
        "        statmp.append(station)\n",
        "    \n",
        "    stalist = list(set(statmp))\n",
        "    \n",
        "    st = stream.copy()\n",
        "    for i in range(len(stalist)):\n",
        "        tr=st.select(station=stalist[i])\n",
        "        \n",
        "        # List of components of this station\n",
        "        chalist=[]\n",
        "        for i in range(len(tr)):\n",
        "            channel=tr[i].stats.channel\n",
        "            chalist.append(channel)\n",
        "            # From SGC inventory.xml file, H2 and H1 seems to be rotated already in E and N\n",
        "            if tr[i].stats.channel == 'HH1':\n",
        "                tr[i].stats.channel='HHN'\n",
        "            if tr[i].stats.channel == 'HH2':\n",
        "                tr[i].stats.channel='HHE'\n",
        "            if tr[i].stats.channel == 'BH1':\n",
        "                tr[i].stats.channel='BHN'\n",
        "            if tr[i].stats.channel == 'BH2':\n",
        "                tr[i].stats.channel='BHE'\n",
        "        \n",
        "        station=tr[0].stats.station\n",
        "        if 'HHE' in chalist or 'BHE' in chalist:\n",
        "            stream2+=tr\n",
        "            print(\"Data already rotated for station \"+station)\n",
        "            continue\n",
        "                \n",
        "        stream2+=tr\n",
        "        \n",
        "    return stream2\n"
      ]
    }
  ]
}