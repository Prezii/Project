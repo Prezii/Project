{
  "nbformat": 4,
  "nbformat_minor": 0,
  "metadata": {
    "colab": {
      "name": "Waveform_Data.ipynb",
      "provenance": [],
      "collapsed_sections": [],
      "authorship_tag": "ABX9TyOiy8kYZvPJqYx2LZyfPdeJ",
      "include_colab_link": true
    },
    "kernelspec": {
      "name": "python3",
      "display_name": "Python 3"
    },
    "language_info": {
      "name": "python"
    }
  },
  "cells": [
    {
      "cell_type": "markdown",
      "metadata": {
        "id": "view-in-github",
        "colab_type": "text"
      },
      "source": [
        "<a href=\"https://colab.research.google.com/github/Prezii/Project/blob/main/data/Waveform_Data.ipynb\" target=\"_parent\"><img src=\"https://colab.research.google.com/assets/colab-badge.svg\" alt=\"Open In Colab\"/></a>"
      ]
    },
    {
      "cell_type": "markdown",
      "source": [
        "##Colaboratory notebook"
      ],
      "metadata": {
        "id": "SVAPdShMUZnW"
      }
    },
    {
      "cell_type": "code",
      "source": [
        "!pip install PyDrive"
      ],
      "metadata": {
        "colab": {
          "base_uri": "https://localhost:8080/"
        },
        "id": "TzxHEBhEUaEm",
        "outputId": "cfb56ca8-38ca-480a-e832-dc7213884606"
      },
      "execution_count": 1,
      "outputs": [
        {
          "output_type": "stream",
          "name": "stdout",
          "text": [
            "Looking in indexes: https://pypi.org/simple, https://us-python.pkg.dev/colab-wheels/public/simple/\n",
            "Requirement already satisfied: PyDrive in /usr/local/lib/python3.7/dist-packages (1.3.1)\n",
            "Requirement already satisfied: google-api-python-client>=1.2 in /usr/local/lib/python3.7/dist-packages (from PyDrive) (1.12.11)\n",
            "Requirement already satisfied: oauth2client>=4.0.0 in /usr/local/lib/python3.7/dist-packages (from PyDrive) (4.1.3)\n",
            "Requirement already satisfied: PyYAML>=3.0 in /usr/local/lib/python3.7/dist-packages (from PyDrive) (6.0)\n",
            "Requirement already satisfied: uritemplate<4dev,>=3.0.0 in /usr/local/lib/python3.7/dist-packages (from google-api-python-client>=1.2->PyDrive) (3.0.1)\n",
            "Requirement already satisfied: google-auth-httplib2>=0.0.3 in /usr/local/lib/python3.7/dist-packages (from google-api-python-client>=1.2->PyDrive) (0.0.4)\n",
            "Requirement already satisfied: httplib2<1dev,>=0.15.0 in /usr/local/lib/python3.7/dist-packages (from google-api-python-client>=1.2->PyDrive) (0.17.4)\n",
            "Requirement already satisfied: google-api-core<3dev,>=1.21.0 in /usr/local/lib/python3.7/dist-packages (from google-api-python-client>=1.2->PyDrive) (1.31.6)\n",
            "Requirement already satisfied: google-auth<3dev,>=1.16.0 in /usr/local/lib/python3.7/dist-packages (from google-api-python-client>=1.2->PyDrive) (1.35.0)\n",
            "Requirement already satisfied: six<2dev,>=1.13.0 in /usr/local/lib/python3.7/dist-packages (from google-api-python-client>=1.2->PyDrive) (1.15.0)\n",
            "Requirement already satisfied: packaging>=14.3 in /usr/local/lib/python3.7/dist-packages (from google-api-core<3dev,>=1.21.0->google-api-python-client>=1.2->PyDrive) (21.3)\n",
            "Requirement already satisfied: googleapis-common-protos<2.0dev,>=1.6.0 in /usr/local/lib/python3.7/dist-packages (from google-api-core<3dev,>=1.21.0->google-api-python-client>=1.2->PyDrive) (1.56.4)\n",
            "Requirement already satisfied: protobuf<4.0.0dev,>=3.12.0 in /usr/local/lib/python3.7/dist-packages (from google-api-core<3dev,>=1.21.0->google-api-python-client>=1.2->PyDrive) (3.17.3)\n",
            "Requirement already satisfied: requests<3.0.0dev,>=2.18.0 in /usr/local/lib/python3.7/dist-packages (from google-api-core<3dev,>=1.21.0->google-api-python-client>=1.2->PyDrive) (2.23.0)\n",
            "Requirement already satisfied: pytz in /usr/local/lib/python3.7/dist-packages (from google-api-core<3dev,>=1.21.0->google-api-python-client>=1.2->PyDrive) (2022.2.1)\n",
            "Requirement already satisfied: setuptools>=40.3.0 in /usr/local/lib/python3.7/dist-packages (from google-api-core<3dev,>=1.21.0->google-api-python-client>=1.2->PyDrive) (57.4.0)\n",
            "Requirement already satisfied: cachetools<5.0,>=2.0.0 in /usr/local/lib/python3.7/dist-packages (from google-auth<3dev,>=1.16.0->google-api-python-client>=1.2->PyDrive) (4.2.4)\n",
            "Requirement already satisfied: rsa<5,>=3.1.4 in /usr/local/lib/python3.7/dist-packages (from google-auth<3dev,>=1.16.0->google-api-python-client>=1.2->PyDrive) (4.9)\n",
            "Requirement already satisfied: pyasn1-modules>=0.2.1 in /usr/local/lib/python3.7/dist-packages (from google-auth<3dev,>=1.16.0->google-api-python-client>=1.2->PyDrive) (0.2.8)\n",
            "Requirement already satisfied: pyasn1>=0.1.7 in /usr/local/lib/python3.7/dist-packages (from oauth2client>=4.0.0->PyDrive) (0.4.8)\n",
            "Requirement already satisfied: pyparsing!=3.0.5,>=2.0.2 in /usr/local/lib/python3.7/dist-packages (from packaging>=14.3->google-api-core<3dev,>=1.21.0->google-api-python-client>=1.2->PyDrive) (3.0.9)\n",
            "Requirement already satisfied: urllib3!=1.25.0,!=1.25.1,<1.26,>=1.21.1 in /usr/local/lib/python3.7/dist-packages (from requests<3.0.0dev,>=2.18.0->google-api-core<3dev,>=1.21.0->google-api-python-client>=1.2->PyDrive) (1.24.3)\n",
            "Requirement already satisfied: chardet<4,>=3.0.2 in /usr/local/lib/python3.7/dist-packages (from requests<3.0.0dev,>=2.18.0->google-api-core<3dev,>=1.21.0->google-api-python-client>=1.2->PyDrive) (3.0.4)\n",
            "Requirement already satisfied: certifi>=2017.4.17 in /usr/local/lib/python3.7/dist-packages (from requests<3.0.0dev,>=2.18.0->google-api-core<3dev,>=1.21.0->google-api-python-client>=1.2->PyDrive) (2022.6.15)\n",
            "Requirement already satisfied: idna<3,>=2.5 in /usr/local/lib/python3.7/dist-packages (from requests<3.0.0dev,>=2.18.0->google-api-core<3dev,>=1.21.0->google-api-python-client>=1.2->PyDrive) (2.10)\n"
          ]
        }
      ]
    },
    {
      "cell_type": "code",
      "source": [
        "from pydrive.auth import GoogleAuth\n",
        "from pydrive.drive import GoogleDrive\n",
        "from google.colab import auth\n",
        "from oauth2client.client import GoogleCredentials"
      ],
      "metadata": {
        "id": "DE27LBBhUppG"
      },
      "execution_count": 2,
      "outputs": []
    },
    {
      "cell_type": "code",
      "source": [
        "auth.authenticate_user()\n",
        "gauth = GoogleAuth()\n",
        "gauth.credentials = GoogleCredentials.get_application_default()\n",
        "drive = GoogleDrive(gauth)"
      ],
      "metadata": {
        "id": "Kv8xXTqUUsAs"
      },
      "execution_count": 3,
      "outputs": []
    },
    {
      "cell_type": "code",
      "source": [
        "downloaded = drive.CreateFile({'id':\"1eggTF4aMdUmNRACeHQIuibcckoixnvM6\"})   # replace the id with id of file you want to access\n",
        "downloaded.GetContentFile('tremor_events-2009-10-01T00_00_00-2017-07-31T23_59_59.csv')        # replace the file name with your file"
      ],
      "metadata": {
        "id": "kcFtH5uWUzBc"
      },
      "execution_count": 4,
      "outputs": []
    },
    {
      "cell_type": "code",
      "source": [
        "import pandas as pd\n",
        "import numpy as np\n",
        "data = pd.read_csv('tremor_events-2009-10-01T00_00_00-2017-07-31T23_59_59.csv')"
      ],
      "metadata": {
        "id": "Wu57NZwVU1uk"
      },
      "execution_count": 5,
      "outputs": []
    },
    {
      "cell_type": "code",
      "source": [
        "data.head()"
      ],
      "metadata": {
        "colab": {
          "base_uri": "https://localhost:8080/",
          "height": 206
        },
        "id": "fFyf7OlpU2nc",
        "outputId": "6563d77a-e26a-4dba-81ac-4718000dc125"
      },
      "execution_count": 6,
      "outputs": [
        {
          "output_type": "execute_result",
          "data": {
            "text/plain": [
              "      lat      lon  depth             starttime  energy duration \n",
              "0  39.910 -122.870   40.0   2015-07-14 02:27:30     0.0     None \n",
              "1  42.293 -123.305   36.2   2010-02-06 21:07:30     0.0     None \n",
              "2  41.020 -122.780   20.0   2011-06-03 16:22:30     0.0     None \n",
              "3  44.800 -123.155   53.0   2011-06-08 11:15:00     0.0     None \n",
              "4  48.415 -123.875   54.0   2011-08-25 07:00:00     0.0     None "
            ],
            "text/html": [
              "\n",
              "  <div id=\"df-9f7a861b-ce69-486f-a387-b092481aa5ca\">\n",
              "    <div class=\"colab-df-container\">\n",
              "      <div>\n",
              "<style scoped>\n",
              "    .dataframe tbody tr th:only-of-type {\n",
              "        vertical-align: middle;\n",
              "    }\n",
              "\n",
              "    .dataframe tbody tr th {\n",
              "        vertical-align: top;\n",
              "    }\n",
              "\n",
              "    .dataframe thead th {\n",
              "        text-align: right;\n",
              "    }\n",
              "</style>\n",
              "<table border=\"1\" class=\"dataframe\">\n",
              "  <thead>\n",
              "    <tr style=\"text-align: right;\">\n",
              "      <th></th>\n",
              "      <th>lat</th>\n",
              "      <th>lon</th>\n",
              "      <th>depth</th>\n",
              "      <th>starttime</th>\n",
              "      <th>energy</th>\n",
              "      <th>duration</th>\n",
              "    </tr>\n",
              "  </thead>\n",
              "  <tbody>\n",
              "    <tr>\n",
              "      <th>0</th>\n",
              "      <td>39.910</td>\n",
              "      <td>-122.870</td>\n",
              "      <td>40.0</td>\n",
              "      <td>2015-07-14 02:27:30</td>\n",
              "      <td>0.0</td>\n",
              "      <td>None</td>\n",
              "    </tr>\n",
              "    <tr>\n",
              "      <th>1</th>\n",
              "      <td>42.293</td>\n",
              "      <td>-123.305</td>\n",
              "      <td>36.2</td>\n",
              "      <td>2010-02-06 21:07:30</td>\n",
              "      <td>0.0</td>\n",
              "      <td>None</td>\n",
              "    </tr>\n",
              "    <tr>\n",
              "      <th>2</th>\n",
              "      <td>41.020</td>\n",
              "      <td>-122.780</td>\n",
              "      <td>20.0</td>\n",
              "      <td>2011-06-03 16:22:30</td>\n",
              "      <td>0.0</td>\n",
              "      <td>None</td>\n",
              "    </tr>\n",
              "    <tr>\n",
              "      <th>3</th>\n",
              "      <td>44.800</td>\n",
              "      <td>-123.155</td>\n",
              "      <td>53.0</td>\n",
              "      <td>2011-06-08 11:15:00</td>\n",
              "      <td>0.0</td>\n",
              "      <td>None</td>\n",
              "    </tr>\n",
              "    <tr>\n",
              "      <th>4</th>\n",
              "      <td>48.415</td>\n",
              "      <td>-123.875</td>\n",
              "      <td>54.0</td>\n",
              "      <td>2011-08-25 07:00:00</td>\n",
              "      <td>0.0</td>\n",
              "      <td>None</td>\n",
              "    </tr>\n",
              "  </tbody>\n",
              "</table>\n",
              "</div>\n",
              "      <button class=\"colab-df-convert\" onclick=\"convertToInteractive('df-9f7a861b-ce69-486f-a387-b092481aa5ca')\"\n",
              "              title=\"Convert this dataframe to an interactive table.\"\n",
              "              style=\"display:none;\">\n",
              "        \n",
              "  <svg xmlns=\"http://www.w3.org/2000/svg\" height=\"24px\"viewBox=\"0 0 24 24\"\n",
              "       width=\"24px\">\n",
              "    <path d=\"M0 0h24v24H0V0z\" fill=\"none\"/>\n",
              "    <path d=\"M18.56 5.44l.94 2.06.94-2.06 2.06-.94-2.06-.94-.94-2.06-.94 2.06-2.06.94zm-11 1L8.5 8.5l.94-2.06 2.06-.94-2.06-.94L8.5 2.5l-.94 2.06-2.06.94zm10 10l.94 2.06.94-2.06 2.06-.94-2.06-.94-.94-2.06-.94 2.06-2.06.94z\"/><path d=\"M17.41 7.96l-1.37-1.37c-.4-.4-.92-.59-1.43-.59-.52 0-1.04.2-1.43.59L10.3 9.45l-7.72 7.72c-.78.78-.78 2.05 0 2.83L4 21.41c.39.39.9.59 1.41.59.51 0 1.02-.2 1.41-.59l7.78-7.78 2.81-2.81c.8-.78.8-2.07 0-2.86zM5.41 20L4 18.59l7.72-7.72 1.47 1.35L5.41 20z\"/>\n",
              "  </svg>\n",
              "      </button>\n",
              "      \n",
              "  <style>\n",
              "    .colab-df-container {\n",
              "      display:flex;\n",
              "      flex-wrap:wrap;\n",
              "      gap: 12px;\n",
              "    }\n",
              "\n",
              "    .colab-df-convert {\n",
              "      background-color: #E8F0FE;\n",
              "      border: none;\n",
              "      border-radius: 50%;\n",
              "      cursor: pointer;\n",
              "      display: none;\n",
              "      fill: #1967D2;\n",
              "      height: 32px;\n",
              "      padding: 0 0 0 0;\n",
              "      width: 32px;\n",
              "    }\n",
              "\n",
              "    .colab-df-convert:hover {\n",
              "      background-color: #E2EBFA;\n",
              "      box-shadow: 0px 1px 2px rgba(60, 64, 67, 0.3), 0px 1px 3px 1px rgba(60, 64, 67, 0.15);\n",
              "      fill: #174EA6;\n",
              "    }\n",
              "\n",
              "    [theme=dark] .colab-df-convert {\n",
              "      background-color: #3B4455;\n",
              "      fill: #D2E3FC;\n",
              "    }\n",
              "\n",
              "    [theme=dark] .colab-df-convert:hover {\n",
              "      background-color: #434B5C;\n",
              "      box-shadow: 0px 1px 3px 1px rgba(0, 0, 0, 0.15);\n",
              "      filter: drop-shadow(0px 1px 2px rgba(0, 0, 0, 0.3));\n",
              "      fill: #FFFFFF;\n",
              "    }\n",
              "  </style>\n",
              "\n",
              "      <script>\n",
              "        const buttonEl =\n",
              "          document.querySelector('#df-9f7a861b-ce69-486f-a387-b092481aa5ca button.colab-df-convert');\n",
              "        buttonEl.style.display =\n",
              "          google.colab.kernel.accessAllowed ? 'block' : 'none';\n",
              "\n",
              "        async function convertToInteractive(key) {\n",
              "          const element = document.querySelector('#df-9f7a861b-ce69-486f-a387-b092481aa5ca');\n",
              "          const dataTable =\n",
              "            await google.colab.kernel.invokeFunction('convertToInteractive',\n",
              "                                                     [key], {});\n",
              "          if (!dataTable) return;\n",
              "\n",
              "          const docLinkHtml = 'Like what you see? Visit the ' +\n",
              "            '<a target=\"_blank\" href=https://colab.research.google.com/notebooks/data_table.ipynb>data table notebook</a>'\n",
              "            + ' to learn more about interactive tables.';\n",
              "          element.innerHTML = '';\n",
              "          dataTable['output_type'] = 'display_data';\n",
              "          await google.colab.output.renderOutput(dataTable, element);\n",
              "          const docLink = document.createElement('div');\n",
              "          docLink.innerHTML = docLinkHtml;\n",
              "          element.appendChild(docLink);\n",
              "        }\n",
              "      </script>\n",
              "    </div>\n",
              "  </div>\n",
              "  "
            ]
          },
          "metadata": {},
          "execution_count": 6
        }
      ]
    },
    {
      "cell_type": "code",
      "source": [
        "start_list= data.loc[:,\"starttime\"]\n",
        "starttime_ls= start_list.to_numpy()\n",
        "print(starttime_ls)"
      ],
      "metadata": {
        "colab": {
          "base_uri": "https://localhost:8080/"
        },
        "id": "LT-2-6hrVF0s",
        "outputId": "9a2c9b1a-d295-4635-f133-26eaaea3baab"
      },
      "execution_count": 7,
      "outputs": [
        {
          "output_type": "stream",
          "name": "stdout",
          "text": [
            "[' 2015-07-14 02:27:30' ' 2010-02-06 21:07:30' ' 2011-06-03 16:22:30' ...\n",
            " ' 2017-07-31 22:12:30' ' 2017-07-31 22:20:00' ' 2017-07-31 22:37:30']\n"
          ]
        }
      ]
    },
    {
      "cell_type": "markdown",
      "source": [
        "##Obspy"
      ],
      "metadata": {
        "id": "yC-9pmu5UaZ1"
      }
    },
    {
      "cell_type": "code",
      "execution_count": 8,
      "metadata": {
        "colab": {
          "base_uri": "https://localhost:8080/"
        },
        "id": "-rAXvy8gN5IZ",
        "outputId": "be4f374f-5f24-4c48-e11f-4cd6a57677c9"
      },
      "outputs": [
        {
          "output_type": "stream",
          "name": "stdout",
          "text": [
            "Looking in indexes: https://pypi.org/simple, https://us-python.pkg.dev/colab-wheels/public/simple/\n",
            "Requirement already satisfied: obspy in /usr/local/lib/python3.7/dist-packages (1.3.0)\n",
            "Requirement already satisfied: setuptools in /usr/local/lib/python3.7/dist-packages (from obspy) (57.4.0)\n",
            "Requirement already satisfied: requests in /usr/local/lib/python3.7/dist-packages (from obspy) (2.23.0)\n",
            "Requirement already satisfied: sqlalchemy in /usr/local/lib/python3.7/dist-packages (from obspy) (1.4.40)\n",
            "Requirement already satisfied: matplotlib>=3.2.0 in /usr/local/lib/python3.7/dist-packages (from obspy) (3.2.2)\n",
            "Requirement already satisfied: decorator in /usr/local/lib/python3.7/dist-packages (from obspy) (4.4.2)\n",
            "Requirement already satisfied: lxml in /usr/local/lib/python3.7/dist-packages (from obspy) (4.9.1)\n",
            "Requirement already satisfied: scipy>=1.0.0 in /usr/local/lib/python3.7/dist-packages (from obspy) (1.7.3)\n",
            "Requirement already satisfied: numpy>=1.15.0 in /usr/local/lib/python3.7/dist-packages (from obspy) (1.21.6)\n",
            "Requirement already satisfied: cycler>=0.10 in /usr/local/lib/python3.7/dist-packages (from matplotlib>=3.2.0->obspy) (0.11.0)\n",
            "Requirement already satisfied: python-dateutil>=2.1 in /usr/local/lib/python3.7/dist-packages (from matplotlib>=3.2.0->obspy) (2.8.2)\n",
            "Requirement already satisfied: kiwisolver>=1.0.1 in /usr/local/lib/python3.7/dist-packages (from matplotlib>=3.2.0->obspy) (1.4.4)\n",
            "Requirement already satisfied: pyparsing!=2.0.4,!=2.1.2,!=2.1.6,>=2.0.1 in /usr/local/lib/python3.7/dist-packages (from matplotlib>=3.2.0->obspy) (3.0.9)\n",
            "Requirement already satisfied: typing-extensions in /usr/local/lib/python3.7/dist-packages (from kiwisolver>=1.0.1->matplotlib>=3.2.0->obspy) (4.1.1)\n",
            "Requirement already satisfied: six>=1.5 in /usr/local/lib/python3.7/dist-packages (from python-dateutil>=2.1->matplotlib>=3.2.0->obspy) (1.15.0)\n",
            "Requirement already satisfied: idna<3,>=2.5 in /usr/local/lib/python3.7/dist-packages (from requests->obspy) (2.10)\n",
            "Requirement already satisfied: chardet<4,>=3.0.2 in /usr/local/lib/python3.7/dist-packages (from requests->obspy) (3.0.4)\n",
            "Requirement already satisfied: certifi>=2017.4.17 in /usr/local/lib/python3.7/dist-packages (from requests->obspy) (2022.6.15)\n",
            "Requirement already satisfied: urllib3!=1.25.0,!=1.25.1,<1.26,>=1.21.1 in /usr/local/lib/python3.7/dist-packages (from requests->obspy) (1.24.3)\n",
            "Requirement already satisfied: greenlet!=0.4.17 in /usr/local/lib/python3.7/dist-packages (from sqlalchemy->obspy) (1.1.2)\n",
            "Requirement already satisfied: importlib-metadata in /usr/local/lib/python3.7/dist-packages (from sqlalchemy->obspy) (4.12.0)\n",
            "Requirement already satisfied: zipp>=0.5 in /usr/local/lib/python3.7/dist-packages (from importlib-metadata->sqlalchemy->obspy) (3.8.1)\n"
          ]
        }
      ],
      "source": [
        "import sys\n",
        "#Install obspy\n",
        "!{sys.executable} -m pip install obspy\n",
        "import obspy"
      ]
    },
    {
      "cell_type": "code",
      "source": [
        "from obspy.clients.fdsn import Client\n",
        "from obspy import UTCDateTime"
      ],
      "metadata": {
        "id": "nOlBpH9_K-Xb"
      },
      "execution_count": 9,
      "outputs": []
    },
    {
      "cell_type": "code",
      "source": [
        "#Additional packages\n",
        "%matplotlib inline\n",
        "!{sys.executable} -m pip install matplotlib\n",
        "!{sys.executable} -m pip install numpy\n",
        "import matplotlib.pyplot as plt\n",
        "import numpy as np"
      ],
      "metadata": {
        "id": "jdMCGU-iAl9g",
        "colab": {
          "base_uri": "https://localhost:8080/"
        },
        "outputId": "e0afa889-1d0c-47f8-a7c9-a57c20afbe35"
      },
      "execution_count": 10,
      "outputs": [
        {
          "output_type": "stream",
          "name": "stdout",
          "text": [
            "Looking in indexes: https://pypi.org/simple, https://us-python.pkg.dev/colab-wheels/public/simple/\n",
            "Requirement already satisfied: matplotlib in /usr/local/lib/python3.7/dist-packages (3.2.2)\n",
            "Requirement already satisfied: python-dateutil>=2.1 in /usr/local/lib/python3.7/dist-packages (from matplotlib) (2.8.2)\n",
            "Requirement already satisfied: kiwisolver>=1.0.1 in /usr/local/lib/python3.7/dist-packages (from matplotlib) (1.4.4)\n",
            "Requirement already satisfied: cycler>=0.10 in /usr/local/lib/python3.7/dist-packages (from matplotlib) (0.11.0)\n",
            "Requirement already satisfied: pyparsing!=2.0.4,!=2.1.2,!=2.1.6,>=2.0.1 in /usr/local/lib/python3.7/dist-packages (from matplotlib) (3.0.9)\n",
            "Requirement already satisfied: numpy>=1.11 in /usr/local/lib/python3.7/dist-packages (from matplotlib) (1.21.6)\n",
            "Requirement already satisfied: typing-extensions in /usr/local/lib/python3.7/dist-packages (from kiwisolver>=1.0.1->matplotlib) (4.1.1)\n",
            "Requirement already satisfied: six>=1.5 in /usr/local/lib/python3.7/dist-packages (from python-dateutil>=2.1->matplotlib) (1.15.0)\n",
            "Looking in indexes: https://pypi.org/simple, https://us-python.pkg.dev/colab-wheels/public/simple/\n",
            "Requirement already satisfied: numpy in /usr/local/lib/python3.7/dist-packages (1.21.6)\n"
          ]
        }
      ]
    },
    {
      "cell_type": "markdown",
      "source": [
        "##IRIS metadata"
      ],
      "metadata": {
        "id": "_sEf6_uqKtg0"
      }
    },
    {
      "cell_type": "markdown",
      "source": [
        "In this part we are goint to use IRIS metadata for NLLB and PGC stations. \n",
        "\n",
        "Note:\n",
        "To avoid problems with \"location\" parameter, it is used the \"*\" string."
      ],
      "metadata": {
        "id": "xHi7sj1n5g-D"
      }
    },
    {
      "cell_type": "markdown",
      "source": [
        "###Example of plot"
      ],
      "metadata": {
        "id": "-f3O5xFM62OT"
      }
    },
    {
      "cell_type": "code",
      "source": [
        "client = Client(\"IRIS\")\n",
        "network = \"CN\" #Canadian National Seismograph Network\n",
        "station = \"PGC\"\n",
        "location=\"*\"\n",
        "channel= \"BHE\""
      ],
      "metadata": {
        "id": "kZBqDnpuuZmt"
      },
      "execution_count": 11,
      "outputs": []
    },
    {
      "cell_type": "code",
      "source": [
        "starttime= UTCDateTime(2015, 7, 14, 22, 24, 57) \n",
        "endtime = starttime + 300 # 5 min = 300 sec"
      ],
      "metadata": {
        "id": "Kt7tXKtaLOwC"
      },
      "execution_count": 30,
      "outputs": []
    },
    {
      "cell_type": "code",
      "source": [
        "#starttime=starttime, endtime=endtime,\n",
        "inv = client.get_stations(network=network, station=station, channel=channel,starttime=starttime,endtime=endtime,level=\"response\")\n",
        "\n",
        "print(inv)"
      ],
      "metadata": {
        "colab": {
          "base_uri": "https://localhost:8080/"
        },
        "id": "eQSbFSOd_3Wt",
        "outputId": "526c0105-449d-46f4-b04e-9503a4855503"
      },
      "execution_count": 32,
      "outputs": [
        {
          "output_type": "stream",
          "name": "stdout",
          "text": [
            "Inventory created at 2022-08-30T16:19:26.454200Z\n",
            "\tCreated by: IRIS WEB SERVICE: fdsnws-station | version: 1.1.49\n",
            "\t\t    http://service.iris.edu/fdsnws/station/1/query?starttime=2015-07-14...\n",
            "\tSending institution: IRIS-DMC (IRIS-DMC)\n",
            "\tContains:\n",
            "\t\tNetworks (1):\n",
            "\t\t\tCN\n",
            "\t\tStations (1):\n",
            "\t\t\tCN.PGC (Sidney, BC, CA)\n",
            "\t\tChannels (1):\n",
            "\t\t\tCN.PGC..BHE\n"
          ]
        }
      ]
    },
    {
      "cell_type": "code",
      "source": [
        "st = client.get_waveforms(network=network, station = station, location = location, channel = channel , starttime=starttime, endtime=endtime)\n",
        "print(st) "
      ],
      "metadata": {
        "colab": {
          "base_uri": "https://localhost:8080/"
        },
        "id": "BrEJTE9SMPbt",
        "outputId": "60c5a3a1-805a-47e8-c493-929cda28ad0a"
      },
      "execution_count": 33,
      "outputs": [
        {
          "output_type": "stream",
          "name": "stdout",
          "text": [
            "1 Trace(s) in Stream:\n",
            "CN.PGC..BHE | 2015-07-14T22:24:57.000000Z - 2015-07-14T22:29:57.000000Z | 40.0 Hz, 12001 samples\n"
          ]
        }
      ]
    },
    {
      "cell_type": "markdown",
      "source": [
        "##Plot"
      ],
      "metadata": {
        "id": "RkYwGsm-K1D1"
      }
    },
    {
      "cell_type": "code",
      "source": [
        "tr = st[0]\n",
        "tr.plot()"
      ],
      "metadata": {
        "colab": {
          "base_uri": "https://localhost:8080/",
          "height": 491
        },
        "id": "qw75KdNYNopj",
        "outputId": "72bbff14-6d04-4c66-eeca-e3bf18f890a8"
      },
      "execution_count": 34,
      "outputs": [
        {
          "output_type": "display_data",
          "data": {
            "text/plain": [
              "<Figure size 800x250 with 1 Axes>"
            ],
            "image/png": "[encoded data removed]"
          },
          "metadata": {
            "needs_background": "light"
          }
        },
        {
          "output_type": "execute_result",
          "data": {
            "text/plain": [
              "<Figure size 800x250 with 1 Axes>"
            ],
            "image/png": "[encoded data removed]"
          },
          "metadata": {},
          "execution_count": 34
        }
      ]
    },
    {
      "cell_type": "code",
      "source": [
        "start_time = tr.stats.starttime\n",
        "end_time = tr.stats.endtime\n",
        "\n",
        "fig, ax = plt.subplots(figsize=(12, 3))\n",
        "\n",
        "ax.plot(tr.times(\"matplotlib\"), tr.data, color=\"0\", label = f\"{tr.stats.station}..{tr.stats.channel}\")\n",
        "ax.xaxis_date()\n",
        "fig.autofmt_xdate()\n",
        "\n",
        "fig.legend(loc=\"best\")\n",
        "plt.title(f\"{start_time} - {end_time}\")\n",
        "plt.show()"
      ],
      "metadata": {
        "colab": {
          "base_uri": "https://localhost:8080/",
          "height": 292
        },
        "id": "Gq75wAd1N_aQ",
        "outputId": "2ede64c1-a87e-4016-8153-38696b27302e"
      },
      "execution_count": 35,
      "outputs": [
        {
          "output_type": "stream",
          "name": "stderr",
          "text": [
            "/usr/local/lib/python3.7/dist-packages/ipykernel_launcher.py:10: MatplotlibDeprecationWarning: Automatic legend placement (loc='best') not implemented for figure legend. Falling back on 'upper right'. This will raise an exception in 3.3.\n",
            "  # Remove the CWD from sys.path while we load stuff.\n"
          ]
        },
        {
          "output_type": "display_data",
          "data": {
            "text/plain": [
              "<Figure size 864x216 with 1 Axes>"
            ],
            "image/png": "[encoded data removed]"
          },
          "metadata": {
            "needs_background": "light"
          }
        }
      ]
    },
    {
      "cell_type": "markdown",
      "source": [
        "https://docs.obspy.org/packages/autogen/obspy.clients.fdsn.client.Client.get_waveforms.html"
      ],
      "metadata": {
        "id": "RTnQv-8xeHX2"
      }
    },
    {
      "cell_type": "code",
      "source": [
        "#Postition '0' of array of date (year and time)\n",
        "starttime_ls[0]"
      ],
      "metadata": {
        "colab": {
          "base_uri": "https://localhost:8080/",
          "height": 35
        },
        "id": "ZHbI0eR2bWHI",
        "outputId": "8f6b1a6d-67ac-49a5-c8cf-0d300d33a96f"
      },
      "execution_count": 36,
      "outputs": [
        {
          "output_type": "execute_result",
          "data": {
            "text/plain": [
              "' 2015-07-14 02:27:30'"
            ],
            "application/vnd.google.colaboratory.intrinsic+json": {
              "type": "string"
            }
          },
          "metadata": {},
          "execution_count": 36
        }
      ]
    },
    {
      "cell_type": "code",
      "source": [
        "#\n",
        "def fun_starttime(ls):\n",
        "  date=[]\n",
        "  \n",
        "  \"\"\"Transformation to better adaptation of starttime in the IRIS database,\n",
        "  as result, it is obtenied an array of str \"\"\"\n",
        "  \n",
        "  for i in range(len(ls)):\n",
        "    if ls[i] !=\" \":\n",
        "      date.append(ls[i])\n",
        "    elif ls[i] == \" \" and i !=0:\n",
        "      date.append(\"T\")\n",
        "  \n",
        "  #Concatenation of arr of str\n",
        "  date_st = \"\"\n",
        "  for i in range(len(date)):\n",
        "    date_st += date[i]\n",
        "\n",
        "  return date_st"
      ],
      "metadata": {
        "id": "brp0_iuxfsaS"
      },
      "execution_count": 37,
      "outputs": []
    },
    {
      "cell_type": "code",
      "source": [
        "#Transforms the date from Tremor catalog to a format to the IRIS database via Obspy\n",
        "new_startime_ls = []\n",
        "for i in range(len(starttime_ls)):\n",
        "  new_startime_ls.append(fun_starttime(starttime_ls[i]))"
      ],
      "metadata": {
        "id": "BXhuzWgmkRL_"
      },
      "execution_count": 38,
      "outputs": []
    },
    {
      "cell_type": "code",
      "source": [
        "#Transform the list to numpy array\n",
        "new_startime_ls_np = np.array(new_startime_ls, dtype=str)"
      ],
      "metadata": {
        "id": "ExrJVgJdrE7R"
      },
      "execution_count": 39,
      "outputs": []
    },
    {
      "cell_type": "code",
      "source": [
        "new_startime_ls_np[0]"
      ],
      "metadata": {
        "colab": {
          "base_uri": "https://localhost:8080/",
          "height": 35
        },
        "id": "CD31yoEIrsFX",
        "outputId": "e120c0ed-2ca0-45aa-ab0f-0074f7419429"
      },
      "execution_count": 40,
      "outputs": [
        {
          "output_type": "execute_result",
          "data": {
            "text/plain": [
              "'2015-07-14T02:27:30'"
            ],
            "application/vnd.google.colaboratory.intrinsic+json": {
              "type": "string"
            }
          },
          "metadata": {},
          "execution_count": 40
        }
      ]
    },
    {
      "cell_type": "code",
      "source": [
        "new_startime_ls_np"
      ],
      "metadata": {
        "colab": {
          "base_uri": "https://localhost:8080/"
        },
        "id": "g47uya6WCsTv",
        "outputId": "15778485-e1fe-4540-fb64-079054ba29bd"
      },
      "execution_count": 41,
      "outputs": [
        {
          "output_type": "execute_result",
          "data": {
            "text/plain": [
              "array(['2015-07-14T02:27:30', '2010-02-06T21:07:30',\n",
              "       '2011-06-03T16:22:30', ..., '2017-07-31T22:12:30',\n",
              "       '2017-07-31T22:20:00', '2017-07-31T22:37:30'], dtype='<U19')"
            ]
          },
          "metadata": {},
          "execution_count": 41
        }
      ]
    },
    {
      "cell_type": "markdown",
      "source": [
        "###Creation of Date_dataset"
      ],
      "metadata": {
        "id": "aQDrdcErEFDj"
      }
    },
    {
      "cell_type": "code",
      "source": [
        "#Convierte \n",
        "#pd.DataFrame(new_startime_ls_np).to_csv('date_dataset.csv')"
      ],
      "metadata": {
        "id": "mD3PPj-rClFn"
      },
      "execution_count": 42,
      "outputs": []
    },
    {
      "cell_type": "markdown",
      "source": [
        "###Data of interest"
      ],
      "metadata": {
        "id": "T5E8JCud69EC"
      }
    },
    {
      "cell_type": "code",
      "source": [
        "starttime= UTCDateTime(new_startime_ls_np[0])\n",
        "endtime = starttime + 300 # 5 min = 300 sec\n",
        "\n",
        "st = client.get_waveforms(network=network, station = station, location = location, channel = channel , starttime=starttime, endtime=endtime,attach_response=True)\n",
        "print(st)"
      ],
      "metadata": {
        "id": "anm3tro1qi7y",
        "colab": {
          "base_uri": "https://localhost:8080/"
        },
        "outputId": "be7fc883-7e5f-4a06-e498-b3a194de85e1"
      },
      "execution_count": 43,
      "outputs": [
        {
          "output_type": "stream",
          "name": "stdout",
          "text": [
            "1 Trace(s) in Stream:\n",
            "CN.PGC..BHE | 2015-07-14T02:27:30.000000Z - 2015-07-14T02:32:30.000000Z | 40.0 Hz, 12001 samples\n"
          ]
        }
      ]
    },
    {
      "cell_type": "code",
      "source": [
        "len(st)\n",
        "tr = st[0]\n",
        "st.plot()"
      ],
      "metadata": {
        "colab": {
          "base_uri": "https://localhost:8080/",
          "height": 491
        },
        "id": "QaWFb6LxOwHc",
        "outputId": "e4074730-0807-42c2-a64b-48c613b5c497"
      },
      "execution_count": 44,
      "outputs": [
        {
          "output_type": "display_data",
          "data": {
            "text/plain": [
              "<Figure size 800x250 with 1 Axes>"
            ],
            "image/png": "[encoded data removed]"
          },
          "metadata": {
            "needs_background": "light"
          }
        },
        {
          "output_type": "execute_result",
          "data": {
            "text/plain": [
              "<Figure size 800x250 with 1 Axes>"
            ],
            "image/png": "[encoded data removed]"
          },
          "metadata": {},
          "execution_count": 44
        }
      ]
    },
    {
      "cell_type": "code",
      "source": [
        "tr.stats"
      ],
      "metadata": {
        "colab": {
          "base_uri": "https://localhost:8080/"
        },
        "id": "zhkm_plDO1U0",
        "outputId": "26f766ef-c7c3-482a-e13e-c814858e1862"
      },
      "execution_count": 45,
      "outputs": [
        {
          "output_type": "execute_result",
          "data": {
            "text/plain": [
              "               network: CN\n",
              "               station: PGC\n",
              "              location: \n",
              "               channel: BHE\n",
              "             starttime: 2015-07-14T02:27:30.000000Z\n",
              "               endtime: 2015-07-14T02:32:30.000000Z\n",
              "         sampling_rate: 40.0\n",
              "                 delta: 0.025\n",
              "                  npts: 12001\n",
              "                 calib: 1.0\n",
              "_fdsnws_dataselect_url: http://service.iris.edu/fdsnws/dataselect/1/query\n",
              "               _format: MSEED\n",
              "                 mseed: AttribDict({'dataquality': 'M', 'number_of_records': 6, 'encoding': 'STEIM2', 'byteorder': '>', 'record_length': 4096, 'filesize': 24576})\n",
              "            processing: ['ObsPy 1.3.0: trim(endtime=UTCDateTime(2015, 7, 14, 2, 32, 30)::fill_value=None::nearest_sample=True::pad=False::starttime=UTCDateTime(2015, 7, 14, 2, 27, 30))']\n",
              "              response: Channel Response\n",
              "\tFrom m/s (velocity in meters per second) to counts (digital counts)\n",
              "\tOverall Sensitivity: 5.09133e+09 defined at 0.100 Hz\n",
              "\t6 stages:\n",
              "\t\tStage 1: PolesZerosResponseStage from m/s to V, gain: 1517.33\n",
              "\t\tStage 2: PolesZerosResponseStage from V to V, gain: 3.3554e+06\n",
              "\t\tStage 3: CoefficientsTypeResponseStage from V to counts, gain: 1\n",
              "\t\tStage 4: CoefficientsTypeResponseStage from counts to counts, gain: 1\n",
              "\t\tStage 5: CoefficientsTypeResponseStage from counts to counts, gain: 1\n",
              "\t\tStage 6: CoefficientsTypeResponseStage from counts to counts, gain: 1"
            ]
          },
          "metadata": {},
          "execution_count": 45
        }
      ]
    },
    {
      "cell_type": "markdown",
      "source": [
        "##Instrulmental correction\n",
        "Now we apply the instrument correction and simulation:\n",
        "https://docs.obspy.org/packages/obspy.signal.html"
      ],
      "metadata": {
        "id": "5lMVW7zytCx8"
      }
    },
    {
      "cell_type": "code",
      "source": [
        "#Choose a home Directory for project (everything will be saved in this directory)\n",
        "#directory='/Users/jeanbaptistetary/Documents/SSI/'\n",
        "#:\\Users\\ce.preciado\\Downloads\n",
        "\n",
        "#Name of the folder that will contain all the Near Field / Regional results.\n",
        "#projectName='NearField'"
      ],
      "metadata": {
        "id": "v7oCl7yH_TV1"
      },
      "execution_count": 46,
      "outputs": []
    },
    {
      "cell_type": "code",
      "source": [
        "directory='C://Users//ce.preciado//Downloads//'\n",
        "#projectName='NearField'"
      ],
      "metadata": {
        "id": "L0gJJvThEV3y"
      },
      "execution_count": 47,
      "outputs": []
    },
    {
      "cell_type": "code",
      "source": [
        "import os\n",
        "\n",
        "#ldir=os.listdir(directory)"
      ],
      "metadata": {
        "id": "lVJsNG3Ir8R0"
      },
      "execution_count": 48,
      "outputs": []
    }
  ]
}