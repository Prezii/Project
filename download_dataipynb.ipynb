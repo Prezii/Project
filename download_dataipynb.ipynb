{
  "nbformat": 4,
  "nbformat_minor": 0,
  "metadata": {
    "colab": {
      "name": "download_dataipynb",
      "provenance": [],
      "authorship_tag": "ABX9TyOpBmOEzw1+kXMtz0xT5lV/",
      "include_colab_link": true
    },
    "kernelspec": {
      "name": "python3",
      "display_name": "Python 3"
    },
    "language_info": {
      "name": "python"
    }
  },
  "cells": [
    {
      "cell_type": "markdown",
      "metadata": {
        "id": "view-in-github",
        "colab_type": "text"
      },
      "source": [
        "<a href=\"https://colab.research.google.com/github/Prezii/Project/blob/main/download_dataipynb.ipynb\" target=\"_parent\"><img src=\"https://colab.research.google.com/assets/colab-badge.svg\" alt=\"Open In Colab\"/></a>"
      ]
    },
    {
      "cell_type": "code",
      "source": [
        "import sys\n",
        "!{sys.executable} -m pip install obspy\n",
        "import obspy"
      ],
      "metadata": {
        "colab": {
          "base_uri": "https://localhost:8080/"
        },
        "id": "7e7Q6ciO24qZ",
        "outputId": "b4227f3e-85a3-494f-da4b-a19a295155a9"
      },
      "execution_count": 1,
      "outputs": [
        {
          "output_type": "stream",
          "name": "stdout",
          "text": [
            "Looking in indexes: https://pypi.org/simple, https://us-python.pkg.dev/colab-wheels/public/simple/\n",
            "Requirement already satisfied: obspy in /usr/local/lib/python3.7/dist-packages (1.3.0)\n",
            "Requirement already satisfied: scipy>=1.0.0 in /usr/local/lib/python3.7/dist-packages (from obspy) (1.7.3)\n",
            "Requirement already satisfied: requests in /usr/local/lib/python3.7/dist-packages (from obspy) (2.23.0)\n",
            "Requirement already satisfied: sqlalchemy in /usr/local/lib/python3.7/dist-packages (from obspy) (1.4.40)\n",
            "Requirement already satisfied: matplotlib>=3.2.0 in /usr/local/lib/python3.7/dist-packages (from obspy) (3.2.2)\n",
            "Requirement already satisfied: lxml in /usr/local/lib/python3.7/dist-packages (from obspy) (4.9.1)\n",
            "Requirement already satisfied: decorator in /usr/local/lib/python3.7/dist-packages (from obspy) (4.4.2)\n",
            "Requirement already satisfied: numpy>=1.15.0 in /usr/local/lib/python3.7/dist-packages (from obspy) (1.21.6)\n",
            "Requirement already satisfied: setuptools in /usr/local/lib/python3.7/dist-packages (from obspy) (57.4.0)\n",
            "Requirement already satisfied: kiwisolver>=1.0.1 in /usr/local/lib/python3.7/dist-packages (from matplotlib>=3.2.0->obspy) (1.4.4)\n",
            "Requirement already satisfied: pyparsing!=2.0.4,!=2.1.2,!=2.1.6,>=2.0.1 in /usr/local/lib/python3.7/dist-packages (from matplotlib>=3.2.0->obspy) (3.0.9)\n",
            "Requirement already satisfied: python-dateutil>=2.1 in /usr/local/lib/python3.7/dist-packages (from matplotlib>=3.2.0->obspy) (2.8.2)\n",
            "Requirement already satisfied: cycler>=0.10 in /usr/local/lib/python3.7/dist-packages (from matplotlib>=3.2.0->obspy) (0.11.0)\n",
            "Requirement already satisfied: typing-extensions in /usr/local/lib/python3.7/dist-packages (from kiwisolver>=1.0.1->matplotlib>=3.2.0->obspy) (4.1.1)\n",
            "Requirement already satisfied: six>=1.5 in /usr/local/lib/python3.7/dist-packages (from python-dateutil>=2.1->matplotlib>=3.2.0->obspy) (1.15.0)\n",
            "Requirement already satisfied: chardet<4,>=3.0.2 in /usr/local/lib/python3.7/dist-packages (from requests->obspy) (3.0.4)\n",
            "Requirement already satisfied: urllib3!=1.25.0,!=1.25.1,<1.26,>=1.21.1 in /usr/local/lib/python3.7/dist-packages (from requests->obspy) (1.24.3)\n",
            "Requirement already satisfied: idna<3,>=2.5 in /usr/local/lib/python3.7/dist-packages (from requests->obspy) (2.10)\n",
            "Requirement already satisfied: certifi>=2017.4.17 in /usr/local/lib/python3.7/dist-packages (from requests->obspy) (2022.6.15)\n",
            "Requirement already satisfied: greenlet!=0.4.17 in /usr/local/lib/python3.7/dist-packages (from sqlalchemy->obspy) (1.1.3)\n",
            "Requirement already satisfied: importlib-metadata in /usr/local/lib/python3.7/dist-packages (from sqlalchemy->obspy) (4.12.0)\n",
            "Requirement already satisfied: zipp>=0.5 in /usr/local/lib/python3.7/dist-packages (from importlib-metadata->sqlalchemy->obspy) (3.8.1)\n"
          ]
        }
      ]
    },
    {
      "cell_type": "code",
      "source": [
        "from obspy.clients.fdsn import Client\n",
        "from obspy import UTCDateTime"
      ],
      "metadata": {
        "id": "BBWcPkge3Ato"
      },
      "execution_count": 2,
      "outputs": []
    },
    {
      "cell_type": "code",
      "source": [
        "import matplotlib.pyplot as plt\n",
        "import numpy as np"
      ],
      "metadata": {
        "id": "UKS2I1bF3N-Y"
      },
      "execution_count": 3,
      "outputs": []
    },
    {
      "cell_type": "code",
      "source": [
        "client = Client(\"IRIS\")\n",
        "network = \"CN\" #Canadian National Seismograph Network\n",
        "station = \"PGC\"\n",
        "location=\"*\"\n",
        "channel= \"BHE\"\n"
      ],
      "metadata": {
        "id": "nxyQ9nFo3CJo"
      },
      "execution_count": 4,
      "outputs": []
    },
    {
      "cell_type": "code",
      "source": [
        "starttime= UTCDateTime(2015, 7, 14, 22, 24, 57) \n",
        "endtime = starttime + 300 # 5 min = 300 sec"
      ],
      "metadata": {
        "id": "6Q7_KWlw3DvY"
      },
      "execution_count": 9,
      "outputs": []
    },
    {
      "cell_type": "code",
      "source": [
        "def createInventory(stream,starttime,endtime):\n",
        "    '''\n",
        "    This function generates an inventory with the info from all the stations.\n",
        "    stream=contains all the traces in a stream using the obspy function Stream()\n",
        "    starttime=starttime of the trace record.\n",
        "    endtime=endtime of the trace record.\n",
        "    '''\n",
        "    ###Get the information for all the stations.\n",
        "    first=True\n",
        "    for tr in stream:\n",
        "        if (first==True):\n",
        "            inv = client.get_stations(network=tr.stats.network, station=tr.stats.station, \n",
        "                                      location='*', channel='BHE',starttime=starttime,\n",
        "                                      endtime=endtime, level=\"response\")\n",
        "            first=False\n",
        "        else:\n",
        "            inv += client.get_stations(network=tr.stats.network, station=tr.stats.station, \n",
        "                                       location='*', channel='BHE',starttime=starttime,\n",
        "                                       endtime=endtime, level=\"response\")\n",
        "\n",
        "    return (inv)"
      ],
      "metadata": {
        "id": "W1WsU2kt3MWQ"
      },
      "execution_count": 8,
      "outputs": []
    },
    {
      "cell_type": "code",
      "source": [
        "#Ir añadiendo archivos al Stream"
      ],
      "metadata": {
        "id": "jhsvOj2-29jg"
      },
      "execution_count": 6,
      "outputs": []
    },
    {
      "cell_type": "code",
      "source": [
        "def placeObservedTraces(directory,projectName,stream):\n",
        "    '''\n",
        "    Function that generates the sac files and place them in the right folder.\n",
        "    directory=current working space.\n",
        "    projectName=one of the following: NearField/FarField/JointInversion.\n",
        "    '''\n",
        "    for tr in stream:\n",
        "        if tr.stats.channel=='BHN' or tr.stats.channel=='HHN':\n",
        "            comp='n'\n",
        "        if tr.stats.channel=='BHE' or tr.stats.channel=='HHE':\n",
        "            comp='e'\n",
        "        if tr.stats.channel=='BHZ' or tr.stats.channel=='HHZ':\n",
        "            comp='u'\n",
        "        tr.write(str(directory)+str(projectName)+'/data/waveforms/'+str(tr.stats.station)+'.disp.'+comp, format='SAC')\n",
        "    #!nautilus {directory}{projectName}/data/waveforms/\n",
        "    !open {directory}{projectName}/data/waveforms/"
      ],
      "metadata": {
        "id": "PPq1dLPR3dUP"
      },
      "execution_count": null,
      "outputs": []
    }
  ]
}