{
  "nbformat": 4,
  "nbformat_minor": 0,
  "metadata": {
    "colab": {
      "name": "DATA_DOWNLOAD_Experiment3.ipynb",
      "provenance": [],
      "authorship_tag": "ABX9TyO2uTTQLohDQNh+bVAFfjq5",
      "include_colab_link": true
    },
    "kernelspec": {
      "name": "python3",
      "display_name": "Python 3"
    },
    "language_info": {
      "name": "python"
    }
  },
  "cells": [
    {
      "cell_type": "markdown",
      "metadata": {
        "id": "view-in-github",
        "colab_type": "text"
      },
      "source": [
        "<a href=\"https://colab.research.google.com/github/Prezii/Project/blob/main/DATA_DOWNLOAD_Experiment3.ipynb\" target=\"_parent\"><img src=\"https://colab.research.google.com/assets/colab-badge.svg\" alt=\"Open In Colab\"/></a>"
      ]
    },
    {
      "cell_type": "code",
      "source": [
        "import sys\n",
        "#Install obspy\n",
        "!{sys.executable} -m pip install obspy\n",
        "import obspy"
      ],
      "metadata": {
        "colab": {
          "base_uri": "https://localhost:8080/"
        },
        "id": "smpLheFtAlPI",
        "outputId": "fdca69f8-69e5-4c6e-bbcd-53231b843e68"
      },
      "execution_count": 1,
      "outputs": [
        {
          "output_type": "stream",
          "name": "stdout",
          "text": [
            "Looking in indexes: https://pypi.org/simple, https://us-python.pkg.dev/colab-wheels/public/simple/\n",
            "Collecting obspy\n",
            "  Downloading obspy-1.3.0-cp37-cp37m-manylinux_2_17_x86_64.manylinux2014_x86_64.whl (14.3 MB)\n",
            "\u001b[K     |████████████████████████████████| 14.3 MB 4.4 MB/s \n",
            "\u001b[?25hRequirement already satisfied: setuptools in /usr/local/lib/python3.7/dist-packages (from obspy) (57.4.0)\n",
            "Requirement already satisfied: numpy>=1.15.0 in /usr/local/lib/python3.7/dist-packages (from obspy) (1.21.6)\n",
            "Requirement already satisfied: decorator in /usr/local/lib/python3.7/dist-packages (from obspy) (4.4.2)\n",
            "Requirement already satisfied: sqlalchemy in /usr/local/lib/python3.7/dist-packages (from obspy) (1.4.40)\n",
            "Requirement already satisfied: lxml in /usr/local/lib/python3.7/dist-packages (from obspy) (4.9.1)\n",
            "Requirement already satisfied: scipy>=1.0.0 in /usr/local/lib/python3.7/dist-packages (from obspy) (1.7.3)\n",
            "Requirement already satisfied: matplotlib>=3.2.0 in /usr/local/lib/python3.7/dist-packages (from obspy) (3.2.2)\n",
            "Requirement already satisfied: requests in /usr/local/lib/python3.7/dist-packages (from obspy) (2.23.0)\n",
            "Requirement already satisfied: kiwisolver>=1.0.1 in /usr/local/lib/python3.7/dist-packages (from matplotlib>=3.2.0->obspy) (1.4.4)\n",
            "Requirement already satisfied: pyparsing!=2.0.4,!=2.1.2,!=2.1.6,>=2.0.1 in /usr/local/lib/python3.7/dist-packages (from matplotlib>=3.2.0->obspy) (3.0.9)\n",
            "Requirement already satisfied: cycler>=0.10 in /usr/local/lib/python3.7/dist-packages (from matplotlib>=3.2.0->obspy) (0.11.0)\n",
            "Requirement already satisfied: python-dateutil>=2.1 in /usr/local/lib/python3.7/dist-packages (from matplotlib>=3.2.0->obspy) (2.8.2)\n",
            "Requirement already satisfied: typing-extensions in /usr/local/lib/python3.7/dist-packages (from kiwisolver>=1.0.1->matplotlib>=3.2.0->obspy) (4.1.1)\n",
            "Requirement already satisfied: six>=1.5 in /usr/local/lib/python3.7/dist-packages (from python-dateutil>=2.1->matplotlib>=3.2.0->obspy) (1.15.0)\n",
            "Requirement already satisfied: idna<3,>=2.5 in /usr/local/lib/python3.7/dist-packages (from requests->obspy) (2.10)\n",
            "Requirement already satisfied: chardet<4,>=3.0.2 in /usr/local/lib/python3.7/dist-packages (from requests->obspy) (3.0.4)\n",
            "Requirement already satisfied: certifi>=2017.4.17 in /usr/local/lib/python3.7/dist-packages (from requests->obspy) (2022.6.15)\n",
            "Requirement already satisfied: urllib3!=1.25.0,!=1.25.1,<1.26,>=1.21.1 in /usr/local/lib/python3.7/dist-packages (from requests->obspy) (1.24.3)\n",
            "Requirement already satisfied: greenlet!=0.4.17 in /usr/local/lib/python3.7/dist-packages (from sqlalchemy->obspy) (1.1.2)\n",
            "Requirement already satisfied: importlib-metadata in /usr/local/lib/python3.7/dist-packages (from sqlalchemy->obspy) (4.12.0)\n",
            "Requirement already satisfied: zipp>=0.5 in /usr/local/lib/python3.7/dist-packages (from importlib-metadata->sqlalchemy->obspy) (3.8.1)\n",
            "Installing collected packages: obspy\n",
            "Successfully installed obspy-1.3.0\n"
          ]
        }
      ]
    },
    {
      "cell_type": "code",
      "execution_count": 2,
      "metadata": {
        "colab": {
          "base_uri": "https://localhost:8080/"
        },
        "id": "sHK10XcJAkCl",
        "outputId": "ed3ddebb-04fe-46f4-84d0-9db1326d6092"
      },
      "outputs": [
        {
          "output_type": "stream",
          "name": "stderr",
          "text": [
            "[2022-08-25 17:18:03,569] - obspy.clients.fdsn.mass_downloader - INFO: Initializing FDSN client(s) for AUSPASS, BGR, EMSC, ETH, GEOFON, GEONET, GFZ, ICGC, IESDMC, INGV, IPGP, ISC, KNMI, KOERI, LMU, NCEDC, NIEP, NOA, RESIF, RESIFPH5, SCEDC, TEXNET, UIB-NORSAR, USGS, USP, ORFEUS, IRIS.\n",
            "[2022-08-25 17:18:04,081] - obspy.clients.fdsn.mass_downloader - INFO: Cannot use client 'ISC' as it does not have 'dataselect' and/or 'station' services.\n",
            "[2022-08-25 17:18:04,404] - obspy.clients.fdsn.mass_downloader - INFO: Cannot use client 'USGS' as it does not have 'dataselect' and/or 'station' services.\n",
            "[2022-08-25 17:18:04,546] - obspy.clients.fdsn.mass_downloader - INFO: Cannot use client 'EMSC' as it does not have 'dataselect' and/or 'station' services.\n",
            "[2022-08-25 17:18:04,851] - obspy.clients.fdsn.mass_downloader - INFO: Cannot use client 'RESIFPH5' as it does not have 'dataselect' and/or 'station' services.\n",
            "[2022-08-25 17:18:07,519] - obspy.clients.fdsn.mass_downloader - INFO: Successfully initialized 23 client(s): AUSPASS, BGR, ETH, GEOFON, GEONET, GFZ, ICGC, IESDMC, INGV, IPGP, KNMI, KOERI, LMU, NCEDC, NIEP, NOA, RESIF, SCEDC, TEXNET, UIB-NORSAR, USP, ORFEUS, IRIS.\n",
            "[2022-08-25 17:18:07,521] - obspy.clients.fdsn.mass_downloader - INFO: Total acquired or preexisting stations: 0\n",
            "[2022-08-25 17:18:07,526] - obspy.clients.fdsn.mass_downloader - INFO: Client 'AUSPASS' - Requesting reliable availability.\n",
            "[2022-08-25 17:18:07,962] - obspy.clients.fdsn.mass_downloader - ERROR: Client 'AUSPASS' - Failed getting availability due to unexpected exception: Unknown format for file /tmp/obspy-vnaz8i1w.tmp\n",
            "[2022-08-25 17:18:07,963] - obspy.clients.fdsn.mass_downloader - INFO: Client 'AUSPASS' - No data available.\n",
            "[2022-08-25 17:18:07,965] - obspy.clients.fdsn.mass_downloader - INFO: Total acquired or preexisting stations: 0\n",
            "[2022-08-25 17:18:07,967] - obspy.clients.fdsn.mass_downloader - INFO: Client 'BGR' - Requesting unreliable availability.\n",
            "[2022-08-25 17:18:09,485] - obspy.clients.fdsn.mass_downloader - ERROR: Client 'BGR' - Failed getting availability due to unexpected exception: Unknown format for file /tmp/obspy-jlohvuon.tmp\n",
            "[2022-08-25 17:18:09,488] - obspy.clients.fdsn.mass_downloader - INFO: Client 'BGR' - No data available.\n",
            "[2022-08-25 17:18:09,494] - obspy.clients.fdsn.mass_downloader - INFO: Total acquired or preexisting stations: 0\n",
            "[2022-08-25 17:18:09,499] - obspy.clients.fdsn.mass_downloader - INFO: Client 'ETH' - Requesting unreliable availability.\n",
            "[2022-08-25 17:18:09,925] - obspy.clients.fdsn.mass_downloader - ERROR: Client 'ETH' - Failed getting availability due to unexpected exception: Unknown format for file /tmp/obspy-d4g0ay6r.tmp\n",
            "[2022-08-25 17:18:09,927] - obspy.clients.fdsn.mass_downloader - INFO: Client 'ETH' - No data available.\n",
            "[2022-08-25 17:18:09,930] - obspy.clients.fdsn.mass_downloader - INFO: Total acquired or preexisting stations: 0\n",
            "[2022-08-25 17:18:09,931] - obspy.clients.fdsn.mass_downloader - INFO: Client 'GEOFON' - Requesting unreliable availability.\n",
            "[2022-08-25 17:18:11,293] - obspy.clients.fdsn.mass_downloader - ERROR: Client 'GEOFON' - Failed getting availability due to unexpected exception: Unknown format for file /tmp/obspy-osuewfpl.tmp\n",
            "[2022-08-25 17:18:11,295] - obspy.clients.fdsn.mass_downloader - INFO: Client 'GEOFON' - No data available.\n",
            "[2022-08-25 17:18:11,300] - obspy.clients.fdsn.mass_downloader - INFO: Total acquired or preexisting stations: 0\n",
            "[2022-08-25 17:18:11,302] - obspy.clients.fdsn.mass_downloader - INFO: Client 'GEONET' - Requesting unreliable availability.\n",
            "[2022-08-25 17:18:11,624] - obspy.clients.fdsn.mass_downloader - ERROR: Client 'GEONET' - Failed getting availability due to unexpected exception: Unknown format for file /tmp/obspy-0lgctcm2.tmp\n",
            "[2022-08-25 17:18:11,626] - obspy.clients.fdsn.mass_downloader - INFO: Client 'GEONET' - No data available.\n",
            "[2022-08-25 17:18:11,627] - obspy.clients.fdsn.mass_downloader - INFO: Total acquired or preexisting stations: 0\n",
            "[2022-08-25 17:18:11,637] - obspy.clients.fdsn.mass_downloader - INFO: Client 'GFZ' - Requesting unreliable availability.\n",
            "[2022-08-25 17:18:13,152] - obspy.clients.fdsn.mass_downloader - ERROR: Client 'GFZ' - Failed getting availability due to unexpected exception: Unknown format for file /tmp/obspy-rcwzvqvx.tmp\n",
            "[2022-08-25 17:18:13,154] - obspy.clients.fdsn.mass_downloader - INFO: Client 'GFZ' - No data available.\n",
            "[2022-08-25 17:18:13,155] - obspy.clients.fdsn.mass_downloader - INFO: Total acquired or preexisting stations: 0\n",
            "[2022-08-25 17:18:13,157] - obspy.clients.fdsn.mass_downloader - INFO: Client 'ICGC' - Requesting unreliable availability.\n",
            "[2022-08-25 17:18:13,413] - obspy.clients.fdsn.mass_downloader - INFO: Client 'ICGC' - No data available for request.\n",
            "[2022-08-25 17:18:13,415] - obspy.clients.fdsn.mass_downloader - INFO: Client 'ICGC' - No data available.\n",
            "[2022-08-25 17:18:13,417] - obspy.clients.fdsn.mass_downloader - INFO: Total acquired or preexisting stations: 0\n",
            "[2022-08-25 17:18:13,419] - obspy.clients.fdsn.mass_downloader - INFO: Client 'IESDMC' - Requesting reliable availability.\n",
            "[2022-08-25 17:18:14,003] - obspy.clients.fdsn.mass_downloader - INFO: Client 'IESDMC' - No data available for request.\n",
            "[2022-08-25 17:18:14,006] - obspy.clients.fdsn.mass_downloader - INFO: Client 'IESDMC' - No data available.\n",
            "[2022-08-25 17:18:14,007] - obspy.clients.fdsn.mass_downloader - INFO: Total acquired or preexisting stations: 0\n",
            "[2022-08-25 17:18:14,008] - obspy.clients.fdsn.mass_downloader - INFO: Client 'INGV' - Requesting unreliable availability.\n",
            "[2022-08-25 17:18:14,342] - obspy.clients.fdsn.mass_downloader - INFO: Client 'INGV' - No data available for request.\n",
            "[2022-08-25 17:18:14,344] - obspy.clients.fdsn.mass_downloader - INFO: Client 'INGV' - No data available.\n",
            "[2022-08-25 17:18:14,345] - obspy.clients.fdsn.mass_downloader - INFO: Total acquired or preexisting stations: 0\n",
            "[2022-08-25 17:18:14,347] - obspy.clients.fdsn.mass_downloader - INFO: Client 'IPGP' - Requesting unreliable availability.\n",
            "[2022-08-25 17:18:14,571] - obspy.clients.fdsn.mass_downloader - ERROR: Client 'IPGP' - Failed getting availability due to unexpected exception: Unknown format for file /tmp/obspy-mcaa4s4m.tmp\n",
            "[2022-08-25 17:18:14,573] - obspy.clients.fdsn.mass_downloader - INFO: Client 'IPGP' - No data available.\n",
            "[2022-08-25 17:18:14,575] - obspy.clients.fdsn.mass_downloader - INFO: Total acquired or preexisting stations: 0\n",
            "[2022-08-25 17:18:14,576] - obspy.clients.fdsn.mass_downloader - INFO: Client 'KNMI' - Requesting unreliable availability.\n",
            "[2022-08-25 17:18:15,135] - obspy.clients.fdsn.mass_downloader - ERROR: Client 'KNMI' - Failed getting availability due to unexpected exception: Unknown format for file /tmp/obspy-p4w41gzw.tmp\n",
            "[2022-08-25 17:18:15,137] - obspy.clients.fdsn.mass_downloader - INFO: Client 'KNMI' - No data available.\n",
            "[2022-08-25 17:18:15,139] - obspy.clients.fdsn.mass_downloader - INFO: Total acquired or preexisting stations: 0\n",
            "[2022-08-25 17:18:15,143] - obspy.clients.fdsn.mass_downloader - INFO: Client 'KOERI' - Requesting unreliable availability.\n",
            "[2022-08-25 17:18:15,541] - obspy.clients.fdsn.mass_downloader - ERROR: Client 'KOERI' - Failed getting availability due to unexpected exception: Unknown format for file /tmp/obspy-5b7f06nb.tmp\n",
            "[2022-08-25 17:18:15,544] - obspy.clients.fdsn.mass_downloader - INFO: Client 'KOERI' - No data available.\n",
            "[2022-08-25 17:18:15,547] - obspy.clients.fdsn.mass_downloader - INFO: Total acquired or preexisting stations: 0\n",
            "[2022-08-25 17:18:15,550] - obspy.clients.fdsn.mass_downloader - INFO: Client 'LMU' - Requesting unreliable availability.\n",
            "[2022-08-25 17:18:15,807] - obspy.clients.fdsn.mass_downloader - ERROR: Client 'LMU' - Failed getting availability due to unexpected exception: Unknown format for file /tmp/obspy-858_k_th.tmp\n",
            "[2022-08-25 17:18:15,809] - obspy.clients.fdsn.mass_downloader - INFO: Client 'LMU' - No data available.\n",
            "[2022-08-25 17:18:15,815] - obspy.clients.fdsn.mass_downloader - INFO: Total acquired or preexisting stations: 0\n",
            "[2022-08-25 17:18:15,822] - obspy.clients.fdsn.mass_downloader - INFO: Client 'NCEDC' - Requesting unreliable availability.\n",
            "[2022-08-25 17:18:36,963] - obspy.clients.fdsn.mass_downloader - ERROR: Client 'NCEDC' - Failed getting availability due to unexpected exception: Unknown format for file /tmp/obspy-p9pjmj42.tmp\n",
            "[2022-08-25 17:18:36,965] - obspy.clients.fdsn.mass_downloader - INFO: Client 'NCEDC' - No data available.\n",
            "[2022-08-25 17:18:36,968] - obspy.clients.fdsn.mass_downloader - INFO: Total acquired or preexisting stations: 0\n",
            "[2022-08-25 17:18:36,972] - obspy.clients.fdsn.mass_downloader - INFO: Client 'NIEP' - Requesting unreliable availability.\n",
            "[2022-08-25 17:18:38,371] - obspy.clients.fdsn.mass_downloader - ERROR: Client 'NIEP' - Failed getting availability due to unexpected exception: Unknown format for file /tmp/obspy-4vo1kcpt.tmp\n",
            "[2022-08-25 17:18:38,374] - obspy.clients.fdsn.mass_downloader - INFO: Client 'NIEP' - No data available.\n",
            "[2022-08-25 17:18:38,379] - obspy.clients.fdsn.mass_downloader - INFO: Total acquired or preexisting stations: 0\n",
            "[2022-08-25 17:18:38,382] - obspy.clients.fdsn.mass_downloader - INFO: Client 'NOA' - Requesting unreliable availability.\n",
            "[2022-08-25 17:18:40,877] - obspy.clients.fdsn.mass_downloader - ERROR: Client 'NOA' - Failed getting availability due to unexpected exception: Unknown format for file /tmp/obspy-57x8219x.tmp\n",
            "[2022-08-25 17:18:40,878] - obspy.clients.fdsn.mass_downloader - INFO: Client 'NOA' - No data available.\n",
            "[2022-08-25 17:18:40,879] - obspy.clients.fdsn.mass_downloader - INFO: Total acquired or preexisting stations: 0\n",
            "[2022-08-25 17:18:40,881] - obspy.clients.fdsn.mass_downloader - INFO: Client 'RESIF' - Requesting reliable availability.\n",
            "[2022-08-25 17:18:44,196] - obspy.clients.fdsn.mass_downloader - ERROR: Client 'RESIF' - Failed getting availability due to unexpected exception: Unknown format for file /tmp/obspy-znmau_hk.tmp\n",
            "[2022-08-25 17:18:44,199] - obspy.clients.fdsn.mass_downloader - INFO: Client 'RESIF' - No data available.\n",
            "[2022-08-25 17:18:44,201] - obspy.clients.fdsn.mass_downloader - INFO: Total acquired or preexisting stations: 0\n",
            "[2022-08-25 17:18:44,202] - obspy.clients.fdsn.mass_downloader - INFO: Client 'SCEDC' - Requesting unreliable availability.\n",
            "[2022-08-25 17:19:16,716] - obspy.clients.fdsn.mass_downloader - ERROR: Client 'SCEDC' - Failed getting availability due to unexpected exception: Unknown format for file /tmp/obspy-pkpbdzky.tmp\n",
            "[2022-08-25 17:19:16,719] - obspy.clients.fdsn.mass_downloader - INFO: Client 'SCEDC' - No data available.\n",
            "[2022-08-25 17:19:16,722] - obspy.clients.fdsn.mass_downloader - INFO: Total acquired or preexisting stations: 0\n",
            "[2022-08-25 17:19:16,726] - obspy.clients.fdsn.mass_downloader - INFO: Client 'TEXNET' - Requesting unreliable availability.\n",
            "[2022-08-25 17:19:16,873] - obspy.clients.fdsn.mass_downloader - INFO: Client 'TEXNET' - No data available for request.\n",
            "[2022-08-25 17:19:16,875] - obspy.clients.fdsn.mass_downloader - INFO: Client 'TEXNET' - No data available.\n",
            "[2022-08-25 17:19:16,876] - obspy.clients.fdsn.mass_downloader - INFO: Total acquired or preexisting stations: 0\n",
            "[2022-08-25 17:19:16,878] - obspy.clients.fdsn.mass_downloader - INFO: Client 'UIB-NORSAR' - Requesting unreliable availability.\n",
            "[2022-08-25 17:19:17,395] - obspy.clients.fdsn.mass_downloader - ERROR: Client 'UIB-NORSAR' - Failed getting availability due to unexpected exception: Unknown format for file /tmp/obspy-ut4qcovm.tmp\n",
            "[2022-08-25 17:19:17,397] - obspy.clients.fdsn.mass_downloader - INFO: Client 'UIB-NORSAR' - No data available.\n",
            "[2022-08-25 17:19:17,398] - obspy.clients.fdsn.mass_downloader - INFO: Total acquired or preexisting stations: 0\n",
            "[2022-08-25 17:19:17,400] - obspy.clients.fdsn.mass_downloader - INFO: Client 'USP' - Requesting unreliable availability.\n",
            "[2022-08-25 17:19:18,021] - obspy.clients.fdsn.mass_downloader - ERROR: Client 'USP' - Failed getting availability due to unexpected exception: Unknown format for file /tmp/obspy-y7htq4ny.tmp\n",
            "[2022-08-25 17:19:18,023] - obspy.clients.fdsn.mass_downloader - INFO: Client 'USP' - No data available.\n",
            "[2022-08-25 17:19:18,025] - obspy.clients.fdsn.mass_downloader - INFO: Total acquired or preexisting stations: 0\n",
            "[2022-08-25 17:19:18,026] - obspy.clients.fdsn.mass_downloader - INFO: Client 'ORFEUS' - Requesting unreliable availability.\n",
            "[2022-08-25 17:19:19,448] - obspy.clients.fdsn.mass_downloader - ERROR: Client 'ORFEUS' - Failed getting availability due to unexpected exception: Unknown format for file /tmp/obspy-23j2pm8_.tmp\n",
            "[2022-08-25 17:19:19,450] - obspy.clients.fdsn.mass_downloader - INFO: Client 'ORFEUS' - No data available.\n",
            "[2022-08-25 17:19:19,452] - obspy.clients.fdsn.mass_downloader - INFO: Total acquired or preexisting stations: 0\n",
            "[2022-08-25 17:19:19,454] - obspy.clients.fdsn.mass_downloader - INFO: Client 'IRIS' - Requesting reliable availability.\n",
            "[2022-08-25 17:19:40,816] - obspy.clients.fdsn.mass_downloader - ERROR: Client 'IRIS' - Failed getting availability due to unexpected exception: Unknown format for file /tmp/obspy-plyd8lom.tmp\n",
            "[2022-08-25 17:19:40,822] - obspy.clients.fdsn.mass_downloader - INFO: Client 'IRIS' - No data available.\n",
            "[2022-08-25 17:19:40,825] - obspy.clients.fdsn.mass_downloader - INFO: ============================== Final report\n",
            "[2022-08-25 17:19:40,829] - obspy.clients.fdsn.mass_downloader - INFO: 0 MiniSEED files [0.0 MB] already existed.\n",
            "[2022-08-25 17:19:40,832] - obspy.clients.fdsn.mass_downloader - INFO: 0 StationXML files [0.0 MB] already existed.\n",
            "[2022-08-25 17:19:40,834] - obspy.clients.fdsn.mass_downloader - INFO: Client 'AUSPASS' - Acquired 0 MiniSEED files [0.0 MB].\n",
            "[2022-08-25 17:19:40,835] - obspy.clients.fdsn.mass_downloader - INFO: Client 'AUSPASS' - Acquired 0 StationXML files [0.0 MB].\n",
            "[2022-08-25 17:19:40,837] - obspy.clients.fdsn.mass_downloader - INFO: Client 'BGR' - Acquired 0 MiniSEED files [0.0 MB].\n",
            "[2022-08-25 17:19:40,838] - obspy.clients.fdsn.mass_downloader - INFO: Client 'BGR' - Acquired 0 StationXML files [0.0 MB].\n",
            "[2022-08-25 17:19:40,840] - obspy.clients.fdsn.mass_downloader - INFO: Client 'ETH' - Acquired 0 MiniSEED files [0.0 MB].\n",
            "[2022-08-25 17:19:40,841] - obspy.clients.fdsn.mass_downloader - INFO: Client 'ETH' - Acquired 0 StationXML files [0.0 MB].\n",
            "[2022-08-25 17:19:40,843] - obspy.clients.fdsn.mass_downloader - INFO: Client 'GEOFON' - Acquired 0 MiniSEED files [0.0 MB].\n",
            "[2022-08-25 17:19:40,844] - obspy.clients.fdsn.mass_downloader - INFO: Client 'GEOFON' - Acquired 0 StationXML files [0.0 MB].\n",
            "[2022-08-25 17:19:40,845] - obspy.clients.fdsn.mass_downloader - INFO: Client 'GEONET' - Acquired 0 MiniSEED files [0.0 MB].\n",
            "[2022-08-25 17:19:40,847] - obspy.clients.fdsn.mass_downloader - INFO: Client 'GEONET' - Acquired 0 StationXML files [0.0 MB].\n",
            "[2022-08-25 17:19:40,848] - obspy.clients.fdsn.mass_downloader - INFO: Client 'GFZ' - Acquired 0 MiniSEED files [0.0 MB].\n",
            "[2022-08-25 17:19:40,850] - obspy.clients.fdsn.mass_downloader - INFO: Client 'GFZ' - Acquired 0 StationXML files [0.0 MB].\n",
            "[2022-08-25 17:19:40,851] - obspy.clients.fdsn.mass_downloader - INFO: Client 'ICGC' - Acquired 0 MiniSEED files [0.0 MB].\n",
            "[2022-08-25 17:19:40,853] - obspy.clients.fdsn.mass_downloader - INFO: Client 'ICGC' - Acquired 0 StationXML files [0.0 MB].\n",
            "[2022-08-25 17:19:40,854] - obspy.clients.fdsn.mass_downloader - INFO: Client 'IESDMC' - Acquired 0 MiniSEED files [0.0 MB].\n",
            "[2022-08-25 17:19:40,856] - obspy.clients.fdsn.mass_downloader - INFO: Client 'IESDMC' - Acquired 0 StationXML files [0.0 MB].\n",
            "[2022-08-25 17:19:40,857] - obspy.clients.fdsn.mass_downloader - INFO: Client 'INGV' - Acquired 0 MiniSEED files [0.0 MB].\n",
            "[2022-08-25 17:19:40,858] - obspy.clients.fdsn.mass_downloader - INFO: Client 'INGV' - Acquired 0 StationXML files [0.0 MB].\n",
            "[2022-08-25 17:19:40,860] - obspy.clients.fdsn.mass_downloader - INFO: Client 'IPGP' - Acquired 0 MiniSEED files [0.0 MB].\n",
            "[2022-08-25 17:19:40,862] - obspy.clients.fdsn.mass_downloader - INFO: Client 'IPGP' - Acquired 0 StationXML files [0.0 MB].\n",
            "[2022-08-25 17:19:40,863] - obspy.clients.fdsn.mass_downloader - INFO: Client 'KNMI' - Acquired 0 MiniSEED files [0.0 MB].\n",
            "[2022-08-25 17:19:40,864] - obspy.clients.fdsn.mass_downloader - INFO: Client 'KNMI' - Acquired 0 StationXML files [0.0 MB].\n",
            "[2022-08-25 17:19:40,866] - obspy.clients.fdsn.mass_downloader - INFO: Client 'KOERI' - Acquired 0 MiniSEED files [0.0 MB].\n",
            "[2022-08-25 17:19:40,867] - obspy.clients.fdsn.mass_downloader - INFO: Client 'KOERI' - Acquired 0 StationXML files [0.0 MB].\n",
            "[2022-08-25 17:19:40,869] - obspy.clients.fdsn.mass_downloader - INFO: Client 'LMU' - Acquired 0 MiniSEED files [0.0 MB].\n",
            "[2022-08-25 17:19:40,870] - obspy.clients.fdsn.mass_downloader - INFO: Client 'LMU' - Acquired 0 StationXML files [0.0 MB].\n",
            "[2022-08-25 17:19:40,871] - obspy.clients.fdsn.mass_downloader - INFO: Client 'NCEDC' - Acquired 0 MiniSEED files [0.0 MB].\n",
            "[2022-08-25 17:19:40,873] - obspy.clients.fdsn.mass_downloader - INFO: Client 'NCEDC' - Acquired 0 StationXML files [0.0 MB].\n",
            "[2022-08-25 17:19:40,874] - obspy.clients.fdsn.mass_downloader - INFO: Client 'NIEP' - Acquired 0 MiniSEED files [0.0 MB].\n",
            "[2022-08-25 17:19:40,875] - obspy.clients.fdsn.mass_downloader - INFO: Client 'NIEP' - Acquired 0 StationXML files [0.0 MB].\n",
            "[2022-08-25 17:19:40,877] - obspy.clients.fdsn.mass_downloader - INFO: Client 'NOA' - Acquired 0 MiniSEED files [0.0 MB].\n",
            "[2022-08-25 17:19:40,878] - obspy.clients.fdsn.mass_downloader - INFO: Client 'NOA' - Acquired 0 StationXML files [0.0 MB].\n",
            "[2022-08-25 17:19:40,880] - obspy.clients.fdsn.mass_downloader - INFO: Client 'RESIF' - Acquired 0 MiniSEED files [0.0 MB].\n",
            "[2022-08-25 17:19:40,881] - obspy.clients.fdsn.mass_downloader - INFO: Client 'RESIF' - Acquired 0 StationXML files [0.0 MB].\n",
            "[2022-08-25 17:19:40,883] - obspy.clients.fdsn.mass_downloader - INFO: Client 'SCEDC' - Acquired 0 MiniSEED files [0.0 MB].\n",
            "[2022-08-25 17:19:40,884] - obspy.clients.fdsn.mass_downloader - INFO: Client 'SCEDC' - Acquired 0 StationXML files [0.0 MB].\n",
            "[2022-08-25 17:19:40,885] - obspy.clients.fdsn.mass_downloader - INFO: Client 'TEXNET' - Acquired 0 MiniSEED files [0.0 MB].\n",
            "[2022-08-25 17:19:40,887] - obspy.clients.fdsn.mass_downloader - INFO: Client 'TEXNET' - Acquired 0 StationXML files [0.0 MB].\n",
            "[2022-08-25 17:19:40,888] - obspy.clients.fdsn.mass_downloader - INFO: Client 'UIB-NORSAR' - Acquired 0 MiniSEED files [0.0 MB].\n",
            "[2022-08-25 17:19:40,890] - obspy.clients.fdsn.mass_downloader - INFO: Client 'UIB-NORSAR' - Acquired 0 StationXML files [0.0 MB].\n",
            "[2022-08-25 17:19:40,891] - obspy.clients.fdsn.mass_downloader - INFO: Client 'USP' - Acquired 0 MiniSEED files [0.0 MB].\n",
            "[2022-08-25 17:19:40,893] - obspy.clients.fdsn.mass_downloader - INFO: Client 'USP' - Acquired 0 StationXML files [0.0 MB].\n",
            "[2022-08-25 17:19:40,894] - obspy.clients.fdsn.mass_downloader - INFO: Client 'ORFEUS' - Acquired 0 MiniSEED files [0.0 MB].\n",
            "[2022-08-25 17:19:40,895] - obspy.clients.fdsn.mass_downloader - INFO: Client 'ORFEUS' - Acquired 0 StationXML files [0.0 MB].\n",
            "[2022-08-25 17:19:40,897] - obspy.clients.fdsn.mass_downloader - INFO: Client 'IRIS' - Acquired 0 MiniSEED files [0.0 MB].\n",
            "[2022-08-25 17:19:40,898] - obspy.clients.fdsn.mass_downloader - INFO: Client 'IRIS' - Acquired 0 StationXML files [0.0 MB].\n",
            "[2022-08-25 17:19:40,900] - obspy.clients.fdsn.mass_downloader - INFO: Downloaded 0.0 MB in total.\n"
          ]
        },
        {
          "output_type": "execute_result",
          "data": {
            "text/plain": [
              "{'AUSPASS': <obspy.clients.fdsn.mass_downloader.download_helpers.ClientDownloadHelper at 0x7f5223488110>,\n",
              " 'BGR': <obspy.clients.fdsn.mass_downloader.download_helpers.ClientDownloadHelper at 0x7f520e2649d0>,\n",
              " 'ETH': <obspy.clients.fdsn.mass_downloader.download_helpers.ClientDownloadHelper at 0x7f521a734e50>,\n",
              " 'GEOFON': <obspy.clients.fdsn.mass_downloader.download_helpers.ClientDownloadHelper at 0x7f5205215950>,\n",
              " 'GEONET': <obspy.clients.fdsn.mass_downloader.download_helpers.ClientDownloadHelper at 0x7f51eb12e690>,\n",
              " 'GFZ': <obspy.clients.fdsn.mass_downloader.download_helpers.ClientDownloadHelper at 0x7f5221a3ca10>,\n",
              " 'ICGC': <obspy.clients.fdsn.mass_downloader.download_helpers.ClientDownloadHelper at 0x7f520521b050>,\n",
              " 'IESDMC': <obspy.clients.fdsn.mass_downloader.download_helpers.ClientDownloadHelper at 0x7f521a724f50>,\n",
              " 'INGV': <obspy.clients.fdsn.mass_downloader.download_helpers.ClientDownloadHelper at 0x7f52299dbcd0>,\n",
              " 'IPGP': <obspy.clients.fdsn.mass_downloader.download_helpers.ClientDownloadHelper at 0x7f521a724710>,\n",
              " 'KNMI': <obspy.clients.fdsn.mass_downloader.download_helpers.ClientDownloadHelper at 0x7f51e28dea10>,\n",
              " 'KOERI': <obspy.clients.fdsn.mass_downloader.download_helpers.ClientDownloadHelper at 0x7f51d98a4b90>,\n",
              " 'LMU': <obspy.clients.fdsn.mass_downloader.download_helpers.ClientDownloadHelper at 0x7f521a724fd0>,\n",
              " 'NCEDC': <obspy.clients.fdsn.mass_downloader.download_helpers.ClientDownloadHelper at 0x7f51f3168190>,\n",
              " 'NIEP': <obspy.clients.fdsn.mass_downloader.download_helpers.ClientDownloadHelper at 0x7f521d77d410>,\n",
              " 'NOA': <obspy.clients.fdsn.mass_downloader.download_helpers.ClientDownloadHelper at 0x7f51e28f7290>,\n",
              " 'RESIF': <obspy.clients.fdsn.mass_downloader.download_helpers.ClientDownloadHelper at 0x7f521d766110>,\n",
              " 'SCEDC': <obspy.clients.fdsn.mass_downloader.download_helpers.ClientDownloadHelper at 0x7f522affc710>,\n",
              " 'TEXNET': <obspy.clients.fdsn.mass_downloader.download_helpers.ClientDownloadHelper at 0x7f51e2901050>,\n",
              " 'UIB-NORSAR': <obspy.clients.fdsn.mass_downloader.download_helpers.ClientDownloadHelper at 0x7f51e28d7490>,\n",
              " 'USP': <obspy.clients.fdsn.mass_downloader.download_helpers.ClientDownloadHelper at 0x7f51cd830a10>,\n",
              " 'ORFEUS': <obspy.clients.fdsn.mass_downloader.download_helpers.ClientDownloadHelper at 0x7f521d7affd0>,\n",
              " 'IRIS': <obspy.clients.fdsn.mass_downloader.download_helpers.ClientDownloadHelper at 0x7f51f3194ad0>}"
            ]
          },
          "metadata": {},
          "execution_count": 2
        }
      ],
      "source": [
        "from obspy.clients.fdsn.mass_downloader import CircularDomain, \\\n",
        "    Restrictions, MassDownloader\n",
        "\n",
        "origin_time = obspy.UTCDateTime(2011, 3, 11, 5, 47, 32)\n",
        "\n",
        "# Circular domain around the epicenter. This will download all data between\n",
        "# 70 and 90 degrees distance from the epicenter. This module also offers\n",
        "# rectangular and global domains. More complex domains can be defined by\n",
        "# inheriting from the Domain class.\n",
        "domain = CircularDomain(latitude=37.52, longitude=143.04,\n",
        "                        minradius=70.0, maxradius=90.0)\n",
        "\n",
        "restrictions = Restrictions(\n",
        "    # Get data from 5 minutes before the event to one hour after the\n",
        "    # event. This defines the temporal bounds of the waveform data.\n",
        "    starttime=origin_time - 5 * 60,\n",
        "    endtime=origin_time + 3600,\n",
        "    # You might not want to deal with gaps in the data. If this setting is\n",
        "    # True, any trace with a gap/overlap will be discarded.\n",
        "    reject_channels_with_gaps=True,\n",
        "    # And you might only want waveforms that have data for at least 95 % of\n",
        "    # the requested time span. Any trace that is shorter than 95 % of the\n",
        "    # desired total duration will be discarded.\n",
        "    minimum_length=0.95,\n",
        "    # No two stations should be closer than 10 km to each other. This is\n",
        "    # useful to for example filter out stations that are part of different\n",
        "    # networks but at the same physical station. Settings this option to\n",
        "    # zero or None will disable that filtering.\n",
        "    minimum_interstation_distance_in_m=10E3,\n",
        "    # Only HH or BH channels. If a station has HH channels, those will be\n",
        "    # downloaded, otherwise the BH. Nothing will be downloaded if it has\n",
        "    # neither. You can add more/less patterns if you like.\n",
        "    channel_priorities=[\"HH[ZNE]\", \"BH[ZNE]\"],\n",
        "    # Location codes are arbitrary and there is no rule as to which\n",
        "    # location is best. Same logic as for the previous setting.\n",
        "    location_priorities=[\"\", \"00\", \"10\"])\n",
        "\n",
        "# No specified providers will result in all known ones being queried.\n",
        "mdl = MassDownloader()\n",
        "# The data will be downloaded to the ``./waveforms/`` and ``./stations/``\n",
        "# folders with automatically chosen file names.\n",
        "mdl.download(domain, restrictions, mseed_storage=\"waveforms\",\n",
        "             stationxml_storage=\"stations\")"
      ]
    },
    {
      "cell_type": "code",
      "source": [
        "from google.colab import files"
      ],
      "metadata": {
        "id": "xqbo89xrFi6A"
      },
      "execution_count": 3,
      "outputs": []
    },
    {
      "cell_type": "code",
      "source": [
        "import os\n",
        "os.getcwd()\n",
        "sys.version"
      ],
      "metadata": {
        "colab": {
          "base_uri": "https://localhost:8080/",
          "height": 35
        },
        "id": "CxGnSWvsFyQH",
        "outputId": "17697f3f-c769-4c83-90c5-61395e0fd744"
      },
      "execution_count": 7,
      "outputs": [
        {
          "output_type": "execute_result",
          "data": {
            "text/plain": [
              "'3.7.13 (default, Apr 24 2022, 01:04:09) \\n[GCC 7.5.0]'"
            ],
            "application/vnd.google.colaboratory.intrinsic+json": {
              "type": "string"
            }
          },
          "metadata": {},
          "execution_count": 7
        }
      ]
    },
    {
      "cell_type": "code",
      "source": [
        "type(mdl)"
      ],
      "metadata": {
        "colab": {
          "base_uri": "https://localhost:8080/"
        },
        "id": "iImJTdDPHiJm",
        "outputId": "0e6dcbcc-8bdd-40ae-8771-cb57b0cbb52c"
      },
      "execution_count": 13,
      "outputs": [
        {
          "output_type": "execute_result",
          "data": {
            "text/plain": [
              "obspy.clients.fdsn.mass_downloader.mass_downloader.MassDownloader"
            ]
          },
          "metadata": {},
          "execution_count": 13
        }
      ]
    },
    {
      "cell_type": "code",
      "source": [
        "from obspy.clients.syngine import Client as SyngineClient"
      ],
      "metadata": {
        "id": "Ldye6zknFlpY"
      },
      "execution_count": 16,
      "outputs": []
    },
    {
      "cell_type": "code",
      "source": [
        "#Choose a home Directory for project (everything will be saved in this directory)\n",
        "directory='/Users/jeanbaptistetary/Documents/SSI/'\n",
        "\n",
        "#Name of the folder that will contain all the Near Field / Regional results.\n",
        "projectName='NearField'\n",
        "\n",
        "#Select init=True to initialize project folder tree, If the tree already exists select False \n",
        "#WARNING: IF TRUE THE EXISTING FOLDER \"projectName\" WILL BE DELETED!!!\n",
        "InitProjectFolderTree(directory,projectName,init=False)"
      ],
      "metadata": {
        "colab": {
          "base_uri": "https://localhost:8080/",
          "height": 200
        },
        "id": "4ctM5NvWVTxf",
        "outputId": "1941df3e-5d96-41e5-f775-e600cedfb28a"
      },
      "execution_count": 17,
      "outputs": [
        {
          "output_type": "error",
          "ename": "NameError",
          "evalue": "ignored",
          "traceback": [
            "\u001b[0;31m---------------------------------------------------------------------------\u001b[0m",
            "\u001b[0;31mNameError\u001b[0m                                 Traceback (most recent call last)",
            "\u001b[0;32m<ipython-input-17-52e38de8e3eb>\u001b[0m in \u001b[0;36m<module>\u001b[0;34m\u001b[0m\n\u001b[1;32m      7\u001b[0m \u001b[0;31m#Select init=True to initialize project folder tree, If the tree already exists select False\u001b[0m\u001b[0;34m\u001b[0m\u001b[0;34m\u001b[0m\u001b[0;34m\u001b[0m\u001b[0m\n\u001b[1;32m      8\u001b[0m \u001b[0;31m#WARNING: IF TRUE THE EXISTING FOLDER \"projectName\" WILL BE DELETED!!!\u001b[0m\u001b[0;34m\u001b[0m\u001b[0;34m\u001b[0m\u001b[0;34m\u001b[0m\u001b[0m\n\u001b[0;32m----> 9\u001b[0;31m \u001b[0mInitProjectFolderTree\u001b[0m\u001b[0;34m(\u001b[0m\u001b[0mdirectory\u001b[0m\u001b[0;34m,\u001b[0m\u001b[0mprojectName\u001b[0m\u001b[0;34m,\u001b[0m\u001b[0minit\u001b[0m\u001b[0;34m=\u001b[0m\u001b[0;32mFalse\u001b[0m\u001b[0;34m)\u001b[0m\u001b[0;34m\u001b[0m\u001b[0;34m\u001b[0m\u001b[0m\n\u001b[0m",
            "\u001b[0;31mNameError\u001b[0m: name 'InitProjectFolderTree' is not defined"
          ]
        }
      ]
    }
  ]
}