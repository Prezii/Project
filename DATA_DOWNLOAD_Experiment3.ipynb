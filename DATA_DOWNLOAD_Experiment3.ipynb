{
  "nbformat": 4,
  "nbformat_minor": 0,
  "metadata": {
    "colab": {
      "name": "DATA_DOWNLOAD_Experiment3.ipynb",
      "provenance": [],
      "authorship_tag": "ABX9TyMv8X7AWCGpa0Qce97kr88c",
      "include_colab_link": true
    },
    "kernelspec": {
      "name": "python3",
      "display_name": "Python 3"
    },
    "language_info": {
      "name": "python"
    }
  },
  "cells": [
    {
      "cell_type": "markdown",
      "metadata": {
        "id": "view-in-github",
        "colab_type": "text"
      },
      "source": [
        "<a href=\"https://colab.research.google.com/github/Prezii/Project/blob/main/DATA_DOWNLOAD_Experiment3.ipynb\" target=\"_parent\"><img src=\"https://colab.research.google.com/assets/colab-badge.svg\" alt=\"Open In Colab\"/></a>"
      ]
    },
    {
      "cell_type": "code",
      "source": [
        "import sys\n",
        "#Install obspy\n",
        "!{sys.executable} -m pip install obspy\n",
        "import obspy"
      ],
      "metadata": {
        "colab": {
          "base_uri": "https://localhost:8080/"
        },
        "id": "smpLheFtAlPI",
        "outputId": "8eec4d5b-9df5-45a1-ddbd-0f6ac5caa0f0"
      },
      "execution_count": 1,
      "outputs": [
        {
          "output_type": "stream",
          "name": "stdout",
          "text": [
            "Looking in indexes: https://pypi.org/simple, https://us-python.pkg.dev/colab-wheels/public/simple/\n",
            "Collecting obspy\n",
            "  Downloading obspy-1.3.0-cp37-cp37m-manylinux_2_17_x86_64.manylinux2014_x86_64.whl (14.3 MB)\n",
            "\u001b[K     |████████████████████████████████| 14.3 MB 9.7 MB/s \n",
            "\u001b[?25hRequirement already satisfied: numpy>=1.15.0 in /usr/local/lib/python3.7/dist-packages (from obspy) (1.21.6)\n",
            "Requirement already satisfied: scipy>=1.0.0 in /usr/local/lib/python3.7/dist-packages (from obspy) (1.7.3)\n",
            "Requirement already satisfied: requests in /usr/local/lib/python3.7/dist-packages (from obspy) (2.23.0)\n",
            "Requirement already satisfied: sqlalchemy in /usr/local/lib/python3.7/dist-packages (from obspy) (1.4.40)\n",
            "Requirement already satisfied: decorator in /usr/local/lib/python3.7/dist-packages (from obspy) (4.4.2)\n",
            "Requirement already satisfied: lxml in /usr/local/lib/python3.7/dist-packages (from obspy) (4.9.1)\n",
            "Requirement already satisfied: setuptools in /usr/local/lib/python3.7/dist-packages (from obspy) (57.4.0)\n",
            "Requirement already satisfied: matplotlib>=3.2.0 in /usr/local/lib/python3.7/dist-packages (from obspy) (3.2.2)\n",
            "Requirement already satisfied: cycler>=0.10 in /usr/local/lib/python3.7/dist-packages (from matplotlib>=3.2.0->obspy) (0.11.0)\n",
            "Requirement already satisfied: kiwisolver>=1.0.1 in /usr/local/lib/python3.7/dist-packages (from matplotlib>=3.2.0->obspy) (1.4.4)\n",
            "Requirement already satisfied: python-dateutil>=2.1 in /usr/local/lib/python3.7/dist-packages (from matplotlib>=3.2.0->obspy) (2.8.2)\n",
            "Requirement already satisfied: pyparsing!=2.0.4,!=2.1.2,!=2.1.6,>=2.0.1 in /usr/local/lib/python3.7/dist-packages (from matplotlib>=3.2.0->obspy) (3.0.9)\n",
            "Requirement already satisfied: typing-extensions in /usr/local/lib/python3.7/dist-packages (from kiwisolver>=1.0.1->matplotlib>=3.2.0->obspy) (4.1.1)\n",
            "Requirement already satisfied: six>=1.5 in /usr/local/lib/python3.7/dist-packages (from python-dateutil>=2.1->matplotlib>=3.2.0->obspy) (1.15.0)\n",
            "Requirement already satisfied: urllib3!=1.25.0,!=1.25.1,<1.26,>=1.21.1 in /usr/local/lib/python3.7/dist-packages (from requests->obspy) (1.24.3)\n",
            "Requirement already satisfied: idna<3,>=2.5 in /usr/local/lib/python3.7/dist-packages (from requests->obspy) (2.10)\n",
            "Requirement already satisfied: certifi>=2017.4.17 in /usr/local/lib/python3.7/dist-packages (from requests->obspy) (2022.6.15)\n",
            "Requirement already satisfied: chardet<4,>=3.0.2 in /usr/local/lib/python3.7/dist-packages (from requests->obspy) (3.0.4)\n",
            "Requirement already satisfied: greenlet!=0.4.17 in /usr/local/lib/python3.7/dist-packages (from sqlalchemy->obspy) (1.1.2)\n",
            "Requirement already satisfied: importlib-metadata in /usr/local/lib/python3.7/dist-packages (from sqlalchemy->obspy) (4.12.0)\n",
            "Requirement already satisfied: zipp>=0.5 in /usr/local/lib/python3.7/dist-packages (from importlib-metadata->sqlalchemy->obspy) (3.8.1)\n",
            "Installing collected packages: obspy\n",
            "Successfully installed obspy-1.3.0\n"
          ]
        }
      ]
    },
    {
      "cell_type": "code",
      "source": [
        "import os\n",
        "import sys"
      ],
      "metadata": {
        "id": "DEippIZWfCNi"
      },
      "execution_count": 2,
      "outputs": []
    },
    {
      "cell_type": "code",
      "source": [
        "!{sys.executable} -m pip install mpi4py\n",
        "from mpi4py import MPI"
      ],
      "metadata": {
        "id": "E3mZc7gxfH4o",
        "outputId": "b01ef152-f034-46f8-e411-d31bd482519e",
        "colab": {
          "base_uri": "https://localhost:8080/"
        }
      },
      "execution_count": 4,
      "outputs": [
        {
          "output_type": "stream",
          "name": "stdout",
          "text": [
            "Looking in indexes: https://pypi.org/simple, https://us-python.pkg.dev/colab-wheels/public/simple/\n",
            "Requirement already satisfied: mpi4py in /usr/local/lib/python3.7/dist-packages (3.1.3)\n"
          ]
        }
      ]
    },
    {
      "cell_type": "code",
      "source": [
        "os.getcwd()\n",
        "sys.version"
      ],
      "metadata": {
        "colab": {
          "base_uri": "https://localhost:8080/",
          "height": 35
        },
        "id": "CxGnSWvsFyQH",
        "outputId": "5771e84b-a310-4881-940b-a18ac05dd746"
      },
      "execution_count": 5,
      "outputs": [
        {
          "output_type": "execute_result",
          "data": {
            "text/plain": [
              "'3.7.13 (default, Apr 24 2022, 01:04:09) \\n[GCC 7.5.0]'"
            ],
            "application/vnd.google.colaboratory.intrinsic+json": {
              "type": "string"
            }
          },
          "metadata": {},
          "execution_count": 5
        }
      ]
    },
    {
      "cell_type": "code",
      "source": [
        "from obspy.clients.syngine import Client as SyngineClient"
      ],
      "metadata": {
        "id": "Ldye6zknFlpY"
      },
      "execution_count": 6,
      "outputs": []
    },
    {
      "cell_type": "code",
      "source": [
        "def InitProjectFolderTree(directory,projectName,init=False):\n",
        "    \n",
        "    '''\n",
        "    Function that creates init folder tree for new project, if init=True, all content under directory\n",
        "    +projectName is deleted and a new tree is created. The project folder tree is created to use MudPy,\n",
        "    all the folders where Mudpy stores information are created.\n",
        "    '''\n",
        "    \n",
        "    if(init==True):\n",
        "        !rm -r {directory}{projectName}\n",
        "        with open(str(directory)+'slipInversion.inv.py','r') as file:\n",
        "            data=file.readlines()\n",
        "        for i,line in enumerate(data):\n",
        "            if(line[:4]=='home'):\n",
        "                data[i]='home='+'\"'+str(directory)+'\"'+'\\n'\n",
        "            if(line[:12]=='project_name'):\n",
        "                data[i]='project_name='+'\"'+str(projectName)+'\"'+'\\n'\n",
        "            if(line[:4]=='init'):\n",
        "                data[i]='init=1 #Initalize project\\n'\n",
        "            if(line[:10]=='make_green'):\n",
        "                data[i]='make_green=0 #Compute GFs\\n'\n",
        "            if(line[:15]=='make_synthetics'):\n",
        "                data[i]='make_synthetics=0 #Compute synthetics for a given model at given stations\\n'\n",
        "            if(line[:6]=='invert'):\n",
        "                data[i]='invert=0  # =1 runs inversion, =0 does nothing\\n'\n",
        "        with open(str(directory)+'slipInversion.inv.py', 'w') as file:\n",
        "            file.writelines(data)\n",
        "            \n",
        "        !python {directory}slipInversion.inv.py\n",
        "        \n",
        "        with open(str(directory)+'slipInversion.inv.py', 'r') as file:\n",
        "            data = file.readlines()\n",
        "        for i,line in enumerate(data):\n",
        "            if(line[:4]=='init'):\n",
        "                data[i]='init=0 #Initalize project\\n'\n",
        "        with open(str(directory)+'slipInversion.inv.py', 'w') as file:\n",
        "            file.writelines(data)\n",
        "    #!nautilus {directory}{projectName}\n",
        "    !open {directory}{projectName}\n",
        "    "
      ],
      "metadata": {
        "id": "JfwGcE3lgAdH"
      },
      "execution_count": 8,
      "outputs": []
    },
    {
      "cell_type": "code",
      "source": [
        "#Choose a home Directory for project (everything will be saved in this directory)\n",
        "directory='/Users/jeanbaptistetary/Documents/SSI/'\n",
        "\n",
        "#Name of the folder that will contain all the Near Field / Regional results.\n",
        "projectName='NearField'\n",
        "\n",
        "#Select init=True to initialize project folder tree, If the tree already exists select False \n",
        "#WARNING: IF TRUE THE EXISTING FOLDER \"projectName\" WILL BE DELETED!!!\n",
        "InitProjectFolderTree(directory,projectName,init=False)"
      ],
      "metadata": {
        "colab": {
          "base_uri": "https://localhost:8080/"
        },
        "id": "4ctM5NvWVTxf",
        "outputId": "078694e7-f8e5-4f15-b82e-66536c020689"
      },
      "execution_count": 9,
      "outputs": [
        {
          "output_type": "stream",
          "name": "stdout",
          "text": [
            "/bin/bash: open: command not found\n"
          ]
        }
      ]
    }
  ]
}