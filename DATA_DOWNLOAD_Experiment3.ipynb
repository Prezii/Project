{
  "nbformat": 4,
  "nbformat_minor": 0,
  "metadata": {
    "colab": {
      "name": "DATA_DOWNLOAD_Experiment3.ipynb",
      "provenance": [],
      "authorship_tag": "ABX9TyNR8sQBjjZbs5F64rwseIEC",
      "include_colab_link": true
    },
    "kernelspec": {
      "name": "python3",
      "display_name": "Python 3"
    },
    "language_info": {
      "name": "python"
    }
  },
  "cells": [
    {
      "cell_type": "markdown",
      "metadata": {
        "id": "view-in-github",
        "colab_type": "text"
      },
      "source": [
        "<a href=\"https://colab.research.google.com/github/Prezii/Project/blob/main/DATA_DOWNLOAD_Experiment3.ipynb\" target=\"_parent\"><img src=\"https://colab.research.google.com/assets/colab-badge.svg\" alt=\"Open In Colab\"/></a>"
      ]
    },
    {
      "cell_type": "code",
      "source": [
        "!pip install PyDrive\n",
        "from pydrive.auth import GoogleAuth\n",
        "from pydrive.drive import GoogleDrive\n",
        "from google.colab import auth\n",
        "from oauth2client.client import GoogleCredentials"
      ],
      "metadata": {
        "id": "W0yW0eYAWsTf"
      },
      "execution_count": null,
      "outputs": []
    },
    {
      "cell_type": "code",
      "source": [
        "auth.authenticate_user()\n",
        "gauth = GoogleAuth()\n",
        "gauth.credentials = GoogleCredentials.get_application_default()\n",
        "drive = GoogleDrive(gauth)"
      ],
      "metadata": {
        "id": "U0bqI4KMWsHA"
      },
      "execution_count": null,
      "outputs": []
    },
    {
      "cell_type": "code",
      "source": [
        "downloaded = drive.CreateFile({'id':\"1zqCgJ5SZCFlH8BEY3JiQjM2pv7SSTLmC\"})   # replace the id with id of file you want to access\n",
        "downloaded.GetContentFile('tremor_events-2011-10-01T00_00_00-2015-02-28T23_59_59.csv')        # replace the file name with your file"
      ],
      "metadata": {
        "id": "IZvxzht8WzZn"
      },
      "execution_count": null,
      "outputs": []
    },
    {
      "cell_type": "code",
      "source": [
        "import sys\n",
        "#Install obspy\n",
        "!{sys.executable} -m pip install obspy\n",
        "import obspy"
      ],
      "metadata": {
        "colab": {
          "base_uri": "https://localhost:8080/"
        },
        "id": "smpLheFtAlPI",
        "outputId": "9081cec9-06b5-4d59-96d9-3dae475c575e"
      },
      "execution_count": 1,
      "outputs": [
        {
          "output_type": "stream",
          "name": "stdout",
          "text": [
            "Looking in indexes: https://pypi.org/simple, https://us-python.pkg.dev/colab-wheels/public/simple/\n",
            "Requirement already satisfied: obspy in /usr/local/lib/python3.7/dist-packages (1.3.0)\n",
            "Requirement already satisfied: setuptools in /usr/local/lib/python3.7/dist-packages (from obspy) (57.4.0)\n",
            "Requirement already satisfied: lxml in /usr/local/lib/python3.7/dist-packages (from obspy) (4.9.1)\n",
            "Requirement already satisfied: numpy>=1.15.0 in /usr/local/lib/python3.7/dist-packages (from obspy) (1.21.6)\n",
            "Requirement already satisfied: requests in /usr/local/lib/python3.7/dist-packages (from obspy) (2.23.0)\n",
            "Requirement already satisfied: sqlalchemy in /usr/local/lib/python3.7/dist-packages (from obspy) (1.4.40)\n",
            "Requirement already satisfied: decorator in /usr/local/lib/python3.7/dist-packages (from obspy) (4.4.2)\n",
            "Requirement already satisfied: matplotlib>=3.2.0 in /usr/local/lib/python3.7/dist-packages (from obspy) (3.2.2)\n",
            "Requirement already satisfied: scipy>=1.0.0 in /usr/local/lib/python3.7/dist-packages (from obspy) (1.7.3)\n",
            "Requirement already satisfied: pyparsing!=2.0.4,!=2.1.2,!=2.1.6,>=2.0.1 in /usr/local/lib/python3.7/dist-packages (from matplotlib>=3.2.0->obspy) (3.0.9)\n",
            "Requirement already satisfied: cycler>=0.10 in /usr/local/lib/python3.7/dist-packages (from matplotlib>=3.2.0->obspy) (0.11.0)\n",
            "Requirement already satisfied: python-dateutil>=2.1 in /usr/local/lib/python3.7/dist-packages (from matplotlib>=3.2.0->obspy) (2.8.2)\n",
            "Requirement already satisfied: kiwisolver>=1.0.1 in /usr/local/lib/python3.7/dist-packages (from matplotlib>=3.2.0->obspy) (1.4.4)\n",
            "Requirement already satisfied: typing-extensions in /usr/local/lib/python3.7/dist-packages (from kiwisolver>=1.0.1->matplotlib>=3.2.0->obspy) (4.1.1)\n",
            "Requirement already satisfied: six>=1.5 in /usr/local/lib/python3.7/dist-packages (from python-dateutil>=2.1->matplotlib>=3.2.0->obspy) (1.15.0)\n",
            "Requirement already satisfied: urllib3!=1.25.0,!=1.25.1,<1.26,>=1.21.1 in /usr/local/lib/python3.7/dist-packages (from requests->obspy) (1.24.3)\n",
            "Requirement already satisfied: certifi>=2017.4.17 in /usr/local/lib/python3.7/dist-packages (from requests->obspy) (2022.6.15)\n",
            "Requirement already satisfied: idna<3,>=2.5 in /usr/local/lib/python3.7/dist-packages (from requests->obspy) (2.10)\n",
            "Requirement already satisfied: chardet<4,>=3.0.2 in /usr/local/lib/python3.7/dist-packages (from requests->obspy) (3.0.4)\n",
            "Requirement already satisfied: importlib-metadata in /usr/local/lib/python3.7/dist-packages (from sqlalchemy->obspy) (4.12.0)\n",
            "Requirement already satisfied: greenlet!=0.4.17 in /usr/local/lib/python3.7/dist-packages (from sqlalchemy->obspy) (1.1.2)\n",
            "Requirement already satisfied: zipp>=0.5 in /usr/local/lib/python3.7/dist-packages (from importlib-metadata->sqlalchemy->obspy) (3.8.1)\n"
          ]
        }
      ]
    },
    {
      "cell_type": "code",
      "source": [
        "!{sys.executable} -m pip install scipy\n",
        "!{sys.executable} -m pip install geos pyproj pyshp\n",
        "!{sys.executable} -m pip install https://downloads.sourceforge.net/project/matplotlib/matplotlib-toolkits/basemap-1.1.0/basemap-1.1.0.tar.gz\n",
        "!{sys.executable} -m pip install instaseis\n",
        "!{sys.executable} -m pip install pandas\n",
        "!{sys.executable} -m pip install cartopy\n",
        "!{sys.executable} -m pip install mpi4py #Run in parallel"
      ],
      "metadata": {
        "id": "M1O3pf9RKOGc",
        "outputId": "59ebf4a9-f5ad-4f14-d348-f66498d45336",
        "colab": {
          "base_uri": "https://localhost:8080/"
        }
      },
      "execution_count": 7,
      "outputs": [
        {
          "output_type": "stream",
          "name": "stdout",
          "text": [
            "Looking in indexes: https://pypi.org/simple, https://us-python.pkg.dev/colab-wheels/public/simple/\n",
            "Requirement already satisfied: scipy in /usr/local/lib/python3.7/dist-packages (1.7.3)\n",
            "Requirement already satisfied: numpy<1.23.0,>=1.16.5 in /usr/local/lib/python3.7/dist-packages (from scipy) (1.21.6)\n",
            "Looking in indexes: https://pypi.org/simple, https://us-python.pkg.dev/colab-wheels/public/simple/\n",
            "Collecting geos\n",
            "  Downloading geos-0.2.3-py3-none-any.whl (400 kB)\n",
            "\u001b[K     |████████████████████████████████| 400 kB 6.9 MB/s \n",
            "\u001b[?25hCollecting pyproj\n",
            "  Downloading pyproj-3.2.1-cp37-cp37m-manylinux2010_x86_64.whl (6.3 MB)\n",
            "\u001b[K     |████████████████████████████████| 6.3 MB 42.0 MB/s \n",
            "\u001b[?25hCollecting pyshp\n",
            "  Downloading pyshp-2.3.1-py2.py3-none-any.whl (46 kB)\n",
            "\u001b[K     |████████████████████████████████| 46 kB 4.1 MB/s \n",
            "\u001b[?25hRequirement already satisfied: flask in /usr/local/lib/python3.7/dist-packages (from geos) (1.1.4)\n",
            "Requirement already satisfied: pillow in /usr/local/lib/python3.7/dist-packages (from geos) (7.1.2)\n",
            "Requirement already satisfied: lxml in /usr/local/lib/python3.7/dist-packages (from geos) (4.9.1)\n",
            "Requirement already satisfied: certifi in /usr/local/lib/python3.7/dist-packages (from pyproj) (2022.6.15)\n",
            "Requirement already satisfied: Jinja2<3.0,>=2.10.1 in /usr/local/lib/python3.7/dist-packages (from flask->geos) (2.11.3)\n",
            "Requirement already satisfied: itsdangerous<2.0,>=0.24 in /usr/local/lib/python3.7/dist-packages (from flask->geos) (1.1.0)\n",
            "Requirement already satisfied: click<8.0,>=5.1 in /usr/local/lib/python3.7/dist-packages (from flask->geos) (7.1.2)\n",
            "Requirement already satisfied: Werkzeug<2.0,>=0.15 in /usr/local/lib/python3.7/dist-packages (from flask->geos) (1.0.1)\n",
            "Requirement already satisfied: MarkupSafe>=0.23 in /usr/local/lib/python3.7/dist-packages (from Jinja2<3.0,>=2.10.1->flask->geos) (2.0.1)\n",
            "Installing collected packages: pyshp, pyproj, geos\n",
            "Successfully installed geos-0.2.3 pyproj-3.2.1 pyshp-2.3.1\n",
            "Looking in indexes: https://pypi.org/simple, https://us-python.pkg.dev/colab-wheels/public/simple/\n",
            "Collecting https://downloads.sourceforge.net/project/matplotlib/matplotlib-toolkits/basemap-1.1.0/basemap-1.1.0.tar.gz\n",
            "\u001b[31m  ERROR: HTTP error 404 while getting https://downloads.sourceforge.net/project/matplotlib/matplotlib-toolkits/basemap-1.1.0/basemap-1.1.0.tar.gz\u001b[0m\n",
            "\u001b[31mERROR: Could not install requirement https://downloads.sourceforge.net/project/matplotlib/matplotlib-toolkits/basemap-1.1.0/basemap-1.1.0.tar.gz because of HTTP error 404 Client Error: Not Found for url: https://downloads.sourceforge.net/project/matplotlib/matplotlib-toolkits/basemap-1.1.0/basemap-1.1.0.tar.gz for URL https://downloads.sourceforge.net/project/matplotlib/matplotlib-toolkits/basemap-1.1.0/basemap-1.1.0.tar.gz\u001b[0m\n",
            "Looking in indexes: https://pypi.org/simple, https://us-python.pkg.dev/colab-wheels/public/simple/\n",
            "Collecting instaseis\n",
            "  Downloading instaseis-1.4.2.tar.gz (25.4 MB)\n",
            "\u001b[K     |████████████████████████████████| 25.4 MB 1.6 MB/s \n",
            "\u001b[?25h  Installing build dependencies ... \u001b[?25l\u001b[?25hdone\n",
            "  Getting requirements to build wheel ... \u001b[?25l\u001b[?25hdone\n",
            "    Preparing wheel metadata ... \u001b[?25l\u001b[?25hdone\n",
            "Requirement already satisfied: numpy in /usr/local/lib/python3.7/dist-packages (from instaseis) (1.21.6)\n",
            "Requirement already satisfied: jsonschema>=2.4.0 in /usr/local/lib/python3.7/dist-packages (from instaseis) (4.3.3)\n",
            "Collecting tornado>=6.0.0\n",
            "  Downloading tornado-6.2-cp37-abi3-manylinux_2_5_x86_64.manylinux1_x86_64.manylinux_2_17_x86_64.manylinux2014_x86_64.whl (423 kB)\n",
            "\u001b[K     |████████████████████████████████| 423 kB 52.5 MB/s \n",
            "\u001b[?25hRequirement already satisfied: geographiclib in /usr/local/lib/python3.7/dist-packages (from instaseis) (1.52)\n",
            "Requirement already satisfied: h5py in /usr/local/lib/python3.7/dist-packages (from instaseis) (3.1.0)\n",
            "Requirement already satisfied: requests in /usr/local/lib/python3.7/dist-packages (from instaseis) (2.23.0)\n",
            "Requirement already satisfied: obspy>=1.2.1 in /usr/local/lib/python3.7/dist-packages (from instaseis) (1.3.0)\n",
            "Requirement already satisfied: typing-extensions in /usr/local/lib/python3.7/dist-packages (from jsonschema>=2.4.0->instaseis) (4.1.1)\n",
            "Requirement already satisfied: pyrsistent!=0.17.0,!=0.17.1,!=0.17.2,>=0.14.0 in /usr/local/lib/python3.7/dist-packages (from jsonschema>=2.4.0->instaseis) (0.18.1)\n",
            "Requirement already satisfied: attrs>=17.4.0 in /usr/local/lib/python3.7/dist-packages (from jsonschema>=2.4.0->instaseis) (22.1.0)\n",
            "Requirement already satisfied: importlib-metadata in /usr/local/lib/python3.7/dist-packages (from jsonschema>=2.4.0->instaseis) (4.12.0)\n",
            "Requirement already satisfied: importlib-resources>=1.4.0 in /usr/local/lib/python3.7/dist-packages (from jsonschema>=2.4.0->instaseis) (5.9.0)\n",
            "Requirement already satisfied: zipp>=3.1.0 in /usr/local/lib/python3.7/dist-packages (from importlib-resources>=1.4.0->jsonschema>=2.4.0->instaseis) (3.8.1)\n",
            "Requirement already satisfied: setuptools in /usr/local/lib/python3.7/dist-packages (from obspy>=1.2.1->instaseis) (57.4.0)\n",
            "Requirement already satisfied: scipy>=1.0.0 in /usr/local/lib/python3.7/dist-packages (from obspy>=1.2.1->instaseis) (1.7.3)\n",
            "Requirement already satisfied: matplotlib>=3.2.0 in /usr/local/lib/python3.7/dist-packages (from obspy>=1.2.1->instaseis) (3.2.2)\n",
            "Requirement already satisfied: sqlalchemy in /usr/local/lib/python3.7/dist-packages (from obspy>=1.2.1->instaseis) (1.4.40)\n",
            "Requirement already satisfied: decorator in /usr/local/lib/python3.7/dist-packages (from obspy>=1.2.1->instaseis) (4.4.2)\n",
            "Requirement already satisfied: lxml in /usr/local/lib/python3.7/dist-packages (from obspy>=1.2.1->instaseis) (4.9.1)\n",
            "Requirement already satisfied: python-dateutil>=2.1 in /usr/local/lib/python3.7/dist-packages (from matplotlib>=3.2.0->obspy>=1.2.1->instaseis) (2.8.2)\n",
            "Requirement already satisfied: kiwisolver>=1.0.1 in /usr/local/lib/python3.7/dist-packages (from matplotlib>=3.2.0->obspy>=1.2.1->instaseis) (1.4.4)\n",
            "Requirement already satisfied: pyparsing!=2.0.4,!=2.1.2,!=2.1.6,>=2.0.1 in /usr/local/lib/python3.7/dist-packages (from matplotlib>=3.2.0->obspy>=1.2.1->instaseis) (3.0.9)\n",
            "Requirement already satisfied: cycler>=0.10 in /usr/local/lib/python3.7/dist-packages (from matplotlib>=3.2.0->obspy>=1.2.1->instaseis) (0.11.0)\n",
            "Requirement already satisfied: six>=1.5 in /usr/local/lib/python3.7/dist-packages (from python-dateutil>=2.1->matplotlib>=3.2.0->obspy>=1.2.1->instaseis) (1.15.0)\n",
            "Requirement already satisfied: cached-property in /usr/local/lib/python3.7/dist-packages (from h5py->instaseis) (1.5.2)\n",
            "Requirement already satisfied: idna<3,>=2.5 in /usr/local/lib/python3.7/dist-packages (from requests->instaseis) (2.10)\n",
            "Requirement already satisfied: chardet<4,>=3.0.2 in /usr/local/lib/python3.7/dist-packages (from requests->instaseis) (3.0.4)\n",
            "Requirement already satisfied: urllib3!=1.25.0,!=1.25.1,<1.26,>=1.21.1 in /usr/local/lib/python3.7/dist-packages (from requests->instaseis) (1.24.3)\n",
            "Requirement already satisfied: certifi>=2017.4.17 in /usr/local/lib/python3.7/dist-packages (from requests->instaseis) (2022.6.15)\n",
            "Requirement already satisfied: greenlet!=0.4.17 in /usr/local/lib/python3.7/dist-packages (from sqlalchemy->obspy>=1.2.1->instaseis) (1.1.2)\n",
            "Building wheels for collected packages: instaseis\n",
            "  Building wheel for instaseis (PEP 517) ... \u001b[?25l\u001b[?25herror\n",
            "\u001b[31m  ERROR: Failed building wheel for instaseis\u001b[0m\n",
            "Failed to build instaseis\n",
            "\u001b[31mERROR: Could not build wheels for instaseis which use PEP 517 and cannot be installed directly\u001b[0m\n",
            "Looking in indexes: https://pypi.org/simple, https://us-python.pkg.dev/colab-wheels/public/simple/\n",
            "Requirement already satisfied: pandas in /usr/local/lib/python3.7/dist-packages (1.3.5)\n",
            "Requirement already satisfied: pytz>=2017.3 in /usr/local/lib/python3.7/dist-packages (from pandas) (2022.2.1)\n",
            "Requirement already satisfied: numpy>=1.17.3 in /usr/local/lib/python3.7/dist-packages (from pandas) (1.21.6)\n",
            "Requirement already satisfied: python-dateutil>=2.7.3 in /usr/local/lib/python3.7/dist-packages (from pandas) (2.8.2)\n",
            "Requirement already satisfied: six>=1.5 in /usr/local/lib/python3.7/dist-packages (from python-dateutil>=2.7.3->pandas) (1.15.0)\n",
            "Looking in indexes: https://pypi.org/simple, https://us-python.pkg.dev/colab-wheels/public/simple/\n",
            "Collecting cartopy\n",
            "  Downloading Cartopy-0.20.3.tar.gz (10.8 MB)\n",
            "\u001b[K     |████████████████████████████████| 10.8 MB 6.2 MB/s \n",
            "\u001b[?25h  Installing build dependencies ... \u001b[?25l\u001b[?25hdone\n",
            "  Getting requirements to build wheel ... \u001b[?25l\u001b[?25herror\n",
            "\u001b[33mWARNING: Discarding https://files.pythonhosted.org/packages/98/a9/0e4000eabadfcff6373c0fec790863b543b919cbfec18aed60d71ba67d5d/Cartopy-0.20.3.tar.gz#sha256=0d60fa2e2fbd77c4d1f6b1f9d3b588966147f07c1b179d2d34570ac1e1b49006 (from https://pypi.org/simple/cartopy/) (requires-python:>=3.7). Command errored out with exit status 1: /usr/bin/python3 /usr/local/lib/python3.7/dist-packages/pip/_vendor/pep517/in_process/_in_process.py get_requires_for_build_wheel /tmp/tmpmxcnxqja Check the logs for full command output.\u001b[0m\n",
            "  Downloading Cartopy-0.20.2.tar.gz (10.8 MB)\n",
            "\u001b[K     |████████████████████████████████| 10.8 MB 28.5 MB/s \n",
            "\u001b[?25h  Installing build dependencies ... \u001b[?25l\u001b[?25hdone\n",
            "  Getting requirements to build wheel ... \u001b[?25l\u001b[?25herror\n",
            "\u001b[33mWARNING: Discarding https://files.pythonhosted.org/packages/f6/55/1e1c737dc9436b320deead73d1c455ddbb74b8b6992081863492f6f6378a/Cartopy-0.20.2.tar.gz#sha256=4d08c198ecaa50a6a6b109d0f14c070e813defc046a83ac5d7ab494f85599e35 (from https://pypi.org/simple/cartopy/) (requires-python:>=3.7). Command errored out with exit status 1: /usr/bin/python3 /usr/local/lib/python3.7/dist-packages/pip/_vendor/pep517/in_process/_in_process.py get_requires_for_build_wheel /tmp/tmpjhsc9i9a Check the logs for full command output.\u001b[0m\n",
            "  Downloading Cartopy-0.20.1.tar.gz (10.8 MB)\n",
            "\u001b[K     |████████████████████████████████| 10.8 MB 35.2 MB/s \n",
            "\u001b[?25h  Installing build dependencies ... \u001b[?25l\u001b[?25hdone\n",
            "  Getting requirements to build wheel ... \u001b[?25l\u001b[?25herror\n",
            "\u001b[33mWARNING: Discarding https://files.pythonhosted.org/packages/fc/59/aa52698e3838f4cd0e7eaa75bd86837e9e0b05041dbdaee3cda2fffced06/Cartopy-0.20.1.tar.gz#sha256=91f87b130e2574547a20cd634498df97d797abd12dcfd0235bc0cdbcec8b05e3 (from https://pypi.org/simple/cartopy/) (requires-python:>=3.7). Command errored out with exit status 1: /usr/bin/python3 /usr/local/lib/python3.7/dist-packages/pip/_vendor/pep517/in_process/_in_process.py get_requires_for_build_wheel /tmp/tmpqmqmavwq Check the logs for full command output.\u001b[0m\n",
            "  Downloading Cartopy-0.20.0.tar.gz (10.8 MB)\n",
            "\u001b[K     |████████████████████████████████| 10.8 MB 22.7 MB/s \n",
            "\u001b[?25h  Installing build dependencies ... \u001b[?25l\u001b[?25hdone\n",
            "  Getting requirements to build wheel ... \u001b[?25l\u001b[?25herror\n",
            "\u001b[33mWARNING: Discarding https://files.pythonhosted.org/packages/0f/c0/58453b036e79046d211f083880d58dcce787e7e07647ac25dc46c6555099/Cartopy-0.20.0.tar.gz#sha256=eae58aff26806e63cf115b2bce9477cedc4aa9f578c5e477b2c25cfa404f2b7a (from https://pypi.org/simple/cartopy/) (requires-python:>=3.7). Command errored out with exit status 1: /usr/bin/python3 /usr/local/lib/python3.7/dist-packages/pip/_vendor/pep517/in_process/_in_process.py get_requires_for_build_wheel /tmp/tmph8gmowc9 Check the logs for full command output.\u001b[0m\n",
            "  Downloading Cartopy-0.19.0.post1.tar.gz (12.1 MB)\n",
            "\u001b[K     |████████████████████████████████| 12.1 MB 25.2 MB/s \n",
            "\u001b[?25h  Installing build dependencies ... \u001b[?25l\u001b[?25hdone\n",
            "  Getting requirements to build wheel ... \u001b[?25l\u001b[?25hdone\n",
            "    Preparing wheel metadata ... \u001b[?25l\u001b[?25hdone\n",
            "Requirement already satisfied: pyshp>=2 in /usr/local/lib/python3.7/dist-packages (from cartopy) (2.3.1)\n",
            "Requirement already satisfied: shapely>=1.5.6 in /usr/local/lib/python3.7/dist-packages (from cartopy) (1.8.4)\n",
            "Requirement already satisfied: numpy>=1.13.3 in /usr/local/lib/python3.7/dist-packages (from cartopy) (1.21.6)\n",
            "Building wheels for collected packages: cartopy\n",
            "  Building wheel for cartopy (PEP 517) ... \u001b[?25l\u001b[?25hdone\n",
            "  Created wheel for cartopy: filename=Cartopy-0.19.0.post1-cp37-cp37m-linux_x86_64.whl size=12516280 sha256=7b636b05876a9d3230ffdd37a7f7f45a21ff157fc651ced9a59dd4d4e80f6968\n",
            "  Stored in directory: /root/.cache/pip/wheels/98/01/f7/bd10aeb96fe4b518cde5f7c4f5e12c7202f85b7353a5017847\n",
            "Successfully built cartopy\n",
            "Installing collected packages: cartopy\n",
            "Successfully installed cartopy-0.19.0.post1\n",
            "Looking in indexes: https://pypi.org/simple, https://us-python.pkg.dev/colab-wheels/public/simple/\n",
            "Collecting mpi4py\n",
            "  Downloading mpi4py-3.1.3.tar.gz (2.5 MB)\n",
            "\u001b[K     |████████████████████████████████| 2.5 MB 7.5 MB/s \n",
            "\u001b[?25h  Installing build dependencies ... \u001b[?25l\u001b[?25hdone\n",
            "  Getting requirements to build wheel ... \u001b[?25l\u001b[?25hdone\n",
            "    Preparing wheel metadata ... \u001b[?25l\u001b[?25hdone\n",
            "Building wheels for collected packages: mpi4py\n",
            "  Building wheel for mpi4py (PEP 517) ... \u001b[?25l\u001b[?25hdone\n",
            "  Created wheel for mpi4py: filename=mpi4py-3.1.3-cp37-cp37m-linux_x86_64.whl size=2185273 sha256=2cf1ba2d618a4e06954951342196428f752301f2a21d252e9edbbd2f14427b8c\n",
            "  Stored in directory: /root/.cache/pip/wheels/7a/07/14/6a0c63fa2c6e473c6edc40985b7d89f05c61ff25ee7f0ad9ac\n",
            "Successfully built mpi4py\n",
            "Installing collected packages: mpi4py\n",
            "Successfully installed mpi4py-3.1.3\n"
          ]
        }
      ]
    },
    {
      "cell_type": "code",
      "source": [
        "import os\n",
        "import sys"
      ],
      "metadata": {
        "id": "DEippIZWfCNi"
      },
      "execution_count": 2,
      "outputs": []
    },
    {
      "cell_type": "code",
      "source": [
        "os.getcwd()\n",
        "sys.version"
      ],
      "metadata": {
        "colab": {
          "base_uri": "https://localhost:8080/",
          "height": 35
        },
        "id": "CxGnSWvsFyQH",
        "outputId": "484e44cb-d246-40ad-a851-56880efb0d12"
      },
      "execution_count": 3,
      "outputs": [
        {
          "output_type": "execute_result",
          "data": {
            "text/plain": [
              "'3.7.13 (default, Apr 24 2022, 01:04:09) \\n[GCC 7.5.0]'"
            ],
            "application/vnd.google.colaboratory.intrinsic+json": {
              "type": "string"
            }
          },
          "metadata": {},
          "execution_count": 3
        }
      ]
    },
    {
      "cell_type": "code",
      "source": [
        "from obspy.clients.syngine import Client as SyngineClient"
      ],
      "metadata": {
        "id": "Ldye6zknFlpY"
      },
      "execution_count": 4,
      "outputs": []
    },
    {
      "cell_type": "markdown",
      "source": [
        "\n",
        "\n",
        "```\n",
        "def InitProjectFolderTree(directory,projectName,init=False):\n",
        "    \n",
        "    '''\n",
        "    Function that creates init folder tree for new project, if init=True, all content under directory\n",
        "    +projectName is deleted and a new tree is created. The project folder tree is created to use MudPy,\n",
        "    all the folders where Mudpy stores information are created.\n",
        "    '''\n",
        "    \n",
        "    if(init==True):\n",
        "        !rm -r {directory}{projectName}\n",
        "        with open(str(directory)+'slipInversion.inv.py','r') as file:\n",
        "            data=file.readlines()\n",
        "        for i,line in enumerate(data):\n",
        "            if(line[:4]=='home'):\n",
        "                data[i]='home='+'\"'+str(directory)+'\"'+'\\n'\n",
        "            if(line[:12]=='project_name'):\n",
        "                data[i]='project_name='+'\"'+str(projectName)+'\"'+'\\n'\n",
        "            if(line[:4]=='init'):\n",
        "                data[i]='init=1 #Initalize project\\n'\n",
        "            if(line[:10]=='make_green'):\n",
        "                data[i]='make_green=0 #Compute GFs\\n'\n",
        "            if(line[:15]=='make_synthetics'):\n",
        "                data[i]='make_synthetics=0 #Compute synthetics for a given model at given stations\\n'\n",
        "            if(line[:6]=='invert'):\n",
        "                data[i]='invert=0  # =1 runs inversion, =0 does nothing\\n'\n",
        "        with open(str(directory)+'slipInversion.inv.py', 'w') as file:\n",
        "            file.writelines(data)\n",
        "            \n",
        "        !python {directory}slipInversion.inv.py\n",
        "        \n",
        "        with open(str(directory)+'slipInversion.inv.py', 'r') as file:\n",
        "            data = file.readlines()\n",
        "        for i,line in enumerate(data):\n",
        "            if(line[:4]=='init'):\n",
        "                data[i]='init=0 #Initalize project\\n'\n",
        "        with open(str(directory)+'slipInversion.inv.py', 'w') as file:\n",
        "            file.writelines(data)\n",
        "    #!nautilus {directory}{projectName}\n",
        "    !open {directory}{projectName}\n",
        "    \n",
        "```\n",
        "\n"
      ],
      "metadata": {
        "id": "1FUFIBSwXtJr"
      }
    },
    {
      "cell_type": "code",
      "source": [],
      "metadata": {
        "id": "JfwGcE3lgAdH"
      },
      "execution_count": 5,
      "outputs": []
    },
    {
      "cell_type": "code",
      "source": [
        "#Choose a home Directory for project (everything will be saved in this directory)\n",
        "directory='/Users/jeanbaptistetary/Documents/SSI/'\n",
        "\n",
        "#Name of the folder that will contain all the Near Field / Regional results.\n",
        "projectName='NearField'\n",
        "\n",
        "#Select init=True to initialize project folder tree, If the tree already exists select False \n",
        "#WARNING: IF TRUE THE EXISTING FOLDER \"projectName\" WILL BE DELETED!!!\n",
        "InitProjectFolderTree(directory,projectName,init=False)"
      ],
      "metadata": {
        "colab": {
          "base_uri": "https://localhost:8080/"
        },
        "id": "4ctM5NvWVTxf",
        "outputId": "a949632e-212b-423c-92cb-ac53b0d9b795"
      },
      "execution_count": 6,
      "outputs": [
        {
          "output_type": "stream",
          "name": "stdout",
          "text": [
            "/bin/bash: open: command not found\n"
          ]
        }
      ]
    },
    {
      "cell_type": "markdown",
      "source": [
        "\n",
        "\n",
        "```\n",
        "def greenFunctionList(stream,directory,projectName):\n",
        "    '''\n",
        "    Function that modifies the green function list that tells the main\n",
        "    program where the waveforms are located and the location of each\n",
        "    station.\n",
        "    directory=current working space.\n",
        "    projectName=NearField/FarField/JointInversion.\n",
        "    inv=it needs an inventory that tells the location of the station. For \n",
        "    this just run the function createInventory().\n",
        "    '''\n",
        "    file = open(str(directory)+str(projectName)+'/data/station_info/mutata.gflist', 'wb')\n",
        "    file.write('#station lon lat \"static,disp,vel,tsun,insar\" \"Static file, displacement file, velocity file,tsunami file,insar file\" \"static sigmas(n,e,u),displacement sigmas(n,e,u),velocity sigmas(n,e,u),tsunami sigma,tsunami sigma\"\\n')\n",
        "    code1='null'\n",
        "    \n",
        "    for tr in stream:\n",
        "        code=repr(tr.stats.station)[2:-1]\n",
        "        longitude=repr(tr.stats.longitude)\n",
        "        latitude=repr(tr.stats.latitude)\n",
        "        if len(code)>4:\n",
        "            code=code[:4]\n",
        "        if len(code)<4:\n",
        "            code=code+\" \"\n",
        "        if float(longitude)>0:\n",
        "            longitude=\" \"+longitude\n",
        "        if len(longitude)>7:\n",
        "            longitude=longitude[:7]\n",
        "        if len(longitude)<7:\n",
        "            longitude=longitude+\"0\"\n",
        "        if float(latitude)>0:\n",
        "            latitude=\" \"+latitude\n",
        "        if len(latitude)>7:\n",
        "            latitude=latitude[:7]\n",
        "        if len(latitude)<7:\n",
        "            latitude=latitude+\"0\"\n",
        "        if code1!=code:\n",
        "            code1=code\n",
        "            file.write((code) + \" \" +longitude+ \" \"+ latitude + \" \"+ \"0\t1\t0\t0\t0\t/foo/bar\t\"+str(directory)+str(projectName)+\"/data/waveforms/\"+tr.stats.station+\".disp\t/foo/bar\t/foo/bar\t/foo/bar\t1\t1\t1\t1.0 1.0 1.0\t1\t1\t1\t0\t0\t0\t0\t1\t0\\n\")\n",
        "    file.close()\n",
        "    \n",
        "    !open {directory}{projectName}/data/station_info/mutata.gflist -a textedit\n",
        "```\n",
        "\n"
      ],
      "metadata": {
        "id": "7QtYZ7kEXeJU"
      }
    },
    {
      "cell_type": "markdown",
      "source": [
        "\n",
        "\n",
        "```\n",
        "def InitProjectFolderTree(directory,projectName,init=False):\n",
        "    \n",
        "    '''\n",
        "    Function that creates init folder tree for new project, if init=True, all content under directory\n",
        "    +projectName is deleted and a new tree is created. The project folder tree is created to use MudPy,\n",
        "    all the folders where Mudpy stores information are created.\n",
        "    '''\n",
        "    \n",
        "    if(init==True):\n",
        "        !rm -r {directory}{projectName}\n",
        "        with open(str(directory)+'slipInversion.inv.py','r') as file:\n",
        "            data=file.readlines()\n",
        "        for i,line in enumerate(data):\n",
        "            if(line[:4]=='home'):\n",
        "                data[i]='home='+'\"'+str(directory)+'\"'+'\\n'\n",
        "            if(line[:12]=='project_name'):\n",
        "                data[i]='project_name='+'\"'+str(projectName)+'\"'+'\\n'\n",
        "            if(line[:4]=='init'):\n",
        "                data[i]='init=1 #Initalize project\\n'\n",
        "            if(line[:10]=='make_green'):\n",
        "                data[i]='make_green=0 #Compute GFs\\n'\n",
        "            if(line[:15]=='make_synthetics'):\n",
        "                data[i]='make_synthetics=0 #Compute synthetics for a given model at given stations\\n'\n",
        "            if(line[:6]=='invert'):\n",
        "                data[i]='invert=0  # =1 runs inversion, =0 does nothing\\n'\n",
        "        with open(str(directory)+'slipInversion.inv.py', 'w') as file:\n",
        "            file.writelines(data)\n",
        "            \n",
        "        !python {directory}slipInversion.inv.py\n",
        "        \n",
        "        with open(str(directory)+'slipInversion.inv.py', 'r') as file:\n",
        "            data = file.readlines()\n",
        "        for i,line in enumerate(data):\n",
        "            if(line[:4]=='init'):\n",
        "                data[i]='init=0 #Initalize project\\n'\n",
        "        with open(str(directory)+'slipInversion.inv.py', 'w') as file:\n",
        "            file.writelines(data)\n",
        "    #!nautilus {directory}{projectName}\n",
        "    !open {directory}{projectName}\n",
        "```\n",
        "\n"
      ],
      "metadata": {
        "id": "_2kJTnKVXlOX"
      }
    },
    {
      "cell_type": "markdown",
      "source": [
        "##!IMPORTANT!"
      ],
      "metadata": {
        "id": "wKp9L6CXMYKZ"
      }
    },
    {
      "cell_type": "code",
      "source": [
        "###placeObservedTraces, IMPORTANT FUNCTION"
      ],
      "metadata": {
        "id": "-LU9OzSJM2tw"
      },
      "execution_count": null,
      "outputs": []
    },
    {
      "cell_type": "markdown",
      "source": [
        "\n",
        "\n",
        "```\n",
        "#######################################Project Functions##############################################\n",
        "\n",
        "def InitProjectFolderTree(directory,projectName,init=False):\n",
        "    \n",
        "    '''\n",
        "    Function that creates init folder tree for new project, if init=True, all content under directory\n",
        "    +projectName is deleted and a new tree is created. The project folder tree is created to use MudPy,\n",
        "    all the folders where Mudpy stores information are created.\n",
        "    '''\n",
        "    \n",
        "    if(init==True):\n",
        "        !rm -r {directory}{projectName}\n",
        "        with open(str(directory)+'slipInversion.inv.py','r') as file:\n",
        "            data=file.readlines()\n",
        "        for i,line in enumerate(data):\n",
        "            if(line[:4]=='home'):\n",
        "                data[i]='home='+'\"'+str(directory)+'\"'+'\\n'\n",
        "            if(line[:12]=='project_name'):\n",
        "                data[i]='project_name='+'\"'+str(projectName)+'\"'+'\\n'\n",
        "            if(line[:4]=='init'):\n",
        "                data[i]='init=1 #Initalize project\\n'\n",
        "            if(line[:10]=='make_green'):\n",
        "                data[i]='make_green=0 #Compute GFs\\n'\n",
        "            if(line[:15]=='make_synthetics'):\n",
        "                data[i]='make_synthetics=0 #Compute synthetics for a given model at given stations\\n'\n",
        "            if(line[:6]=='invert'):\n",
        "                data[i]='invert=0  # =1 runs inversion, =0 does nothing\\n'\n",
        "        with open(str(directory)+'slipInversion.inv.py', 'w') as file:\n",
        "            file.writelines(data)\n",
        "            \n",
        "        !python {directory}slipInversion.inv.py\n",
        "        \n",
        "        with open(str(directory)+'slipInversion.inv.py', 'r') as file:\n",
        "            data = file.readlines()\n",
        "        for i,line in enumerate(data):\n",
        "            if(line[:4]=='init'):\n",
        "                data[i]='init=0 #Initalize project\\n'\n",
        "        with open(str(directory)+'slipInversion.inv.py', 'w') as file:\n",
        "            file.writelines(data)\n",
        "    #!nautilus {directory}{projectName}\n",
        "    !open {directory}{projectName}\n",
        "    \n",
        "def newIteration(directory,projectName,dontResetFaultParameters=False):\n",
        "    '''\n",
        "    This function starts a new iteration erasing all the data, be careful.\n",
        "    '''\n",
        "    !rm {directory}{projectName}/data/waveforms/*\n",
        "    !rm {directory}{projectName}/data/station_info/mutata.gflist\n",
        "    if dontResetFaultParameters==False:\n",
        "        !rm {directory}{projectName}/data/model_info/mutata.fault\n",
        "    !rm {directory}{projectName}/output/inverse_models/models/*\n",
        "    !rm {directory}{projectName}/output/inverse_models/waveforms/*\n",
        "    !rm -r {directory}{projectName}/GFs/dynamic/* \n",
        "    \n",
        "def placeObservedTraces(directory,projectName,stream):\n",
        "    '''\n",
        "    Function that generates the sac files and place them in the right folder.\n",
        "    directory=current working space.\n",
        "    projectName=one of the following: NearField/FarField/JointInversion.\n",
        "    '''\n",
        "    for tr in stream:\n",
        "        if tr.stats.channel=='BHN' or tr.stats.channel=='HHN':\n",
        "            comp='n'\n",
        "        if tr.stats.channel=='BHE' or tr.stats.channel=='HHE':\n",
        "            comp='e'\n",
        "        if tr.stats.channel=='BHZ' or tr.stats.channel=='HHZ':\n",
        "            comp='u'\n",
        "        tr.write(str(directory)+str(projectName)+'/data/waveforms/'+str(tr.stats.station)+'.disp.'+comp, format='SAC')\n",
        "    #!nautilus {directory}{projectName}/data/waveforms/\n",
        "    !open {directory}{projectName}/data/waveforms/\n",
        "    \n",
        "def removeTrace(traces,listOfTraces):\n",
        "    '''\n",
        "    Removes Trace\n",
        "    '''\n",
        "    for tr in traces:\n",
        "        for t in listOfTraces:\n",
        "            if (tr.stats.station==t):\n",
        "                traces.remove(tr)\n",
        "    return traces\n",
        "\n",
        "def removeTraceLoc(traces,staname,loc):\n",
        "    '''\n",
        "    Removes Traces for a specific station and location (when a station have more than one)\n",
        "    '''\n",
        "    for tr in traces.select(station=staname, location=loc):\n",
        "        traces.remove(tr)\n",
        "    \n",
        "    return traces\n",
        "\n",
        "def changeProject(projectName,directory):\n",
        "    '''\n",
        "    Function that changes the working folder in the main file.\n",
        "    directory=current working space.\n",
        "    projectName=one of the following: NearField/FarField/JointInversion.\n",
        "    '''\n",
        "    with open(str(directory)+'slipInversion.inv.py', 'r') as file:\n",
        "        data = file.readlines()\n",
        "    for i, line in enumerate(data):\n",
        "        if line[:12]=='project_name':\n",
        "            data[i]=\"project_name='\"+str(projectName)+\"'\\n\"\n",
        "    with open(str(directory)+'slipInversion.inv.py', 'w') as file:\n",
        "        file.writelines( data )\n",
        "    #!open {directory}slipInversion.inv.py -a Xcode\n",
        "    !gedit {directory}slipInversion.inv.py\n",
        "\n",
        "def createInventory(stream,starttime,endtime):\n",
        "    '''\n",
        "    This function generates an inventory with the info from all the stations.\n",
        "    stream=contains all the traces in a stream using the obspy function Stream()\n",
        "    starttime=starttime of the trace record.\n",
        "    endtime=endtime of the trace record.\n",
        "    '''\n",
        "    ###Get the information for all the stations.\n",
        "    from obspy.clients.fdsn import Client\n",
        "    client = Client(\"IRIS\")\n",
        "    first=True\n",
        "    for tr in stream:\n",
        "        if (first==True):\n",
        "            inv = client.get_stations(network=tr.stats.network, station=tr.stats.station, \n",
        "                                      location='00', channel='BHZ',starttime=starttime,\n",
        "                                      endtime=endtime, level=\"response\")\n",
        "            first=False\n",
        "        else:\n",
        "            inv += client.get_stations(network=tr.stats.network, station=tr.stats.station, \n",
        "                                       location='00', channel='BHZ',starttime=starttime,\n",
        "                                       endtime=endtime, level=\"response\")\n",
        "    \n",
        "    return (inv)\n",
        "\n",
        "def prepareRunFile(nl,nw,event_longitude,event_latitude,event_depth):\n",
        "    '''\n",
        "    Run File is prepared with number of subfaults across length nl and across width nw. The run file is opened\n",
        "    for the user to check if everything is in its place. Check and custom reg parameters, filters, project name\n",
        "    and homedir. Check and custom all parameters and check that the input file names are correct.\n",
        "    '''\n",
        "    with open(str(directory)+'slipInversion.inv.py', 'r') as file:\n",
        "        # read a list of lines into data\n",
        "        data = file.readlines()\n",
        "    for i, line in enumerate(data):\n",
        "        if line[:7]=='nstrike':\n",
        "            data[i]='nstrike='+repr(nl)+' ; ndip='+repr(nw)+' ; nfaults=(nstrike,ndip) #set nstrike to total no. of faults and ndip to 1 if using Tikh\\n'\n",
        "        if line[:9]=='epicenter':\n",
        "            data[i]=('epicenter=np.array([ '+repr(event_longitude) +' , '+repr(event_latitude)+' ,'\n",
        "                  +repr(event_depth)+'])\\n')\n",
        "            print(data[i])\n",
        "    with open(str(directory)+'slipInversion.inv.py', 'w') as file:\n",
        "        file.writelines( data )\n",
        "    #!open {directory}SlipInversion.inv.py -a Xcode\n",
        "    !open {directory}slipInversion.inv.py -a textedit\n",
        "    \n",
        "def runInversion(directory,projectName,makeGreen=False,makeSynthetics=False,invert=False):\n",
        "    '''\n",
        "    Function that modifies the main file that controls the inversion so that it generates the \n",
        "    green functions, the synthetics and run the inversion.\n",
        "    directory=current working space.\n",
        "    projectName=one of the following: NearField/FarField/JointInversion.\n",
        "    '''\n",
        "    with open(str(directory)+'slipInversion.inv.py', 'r') as file:\n",
        "        data = file.readlines()\n",
        "    for i, line in enumerate(data):\n",
        "        if line[:10]=='make_green':\n",
        "            if makeGreen==True:\n",
        "                data[i]='make_green=1 #Compute GFs\\n'\n",
        "            else:\n",
        "                data[i]='make_green=0 #Do not compute GFs\\n'\n",
        "        if line[:15]=='make_synthetics':\n",
        "            if makeSynthetics==True:\n",
        "                data[i]='make_synthetics=1 #Compute synthetics for a given model at given stations\\n'\n",
        "            else:\n",
        "                data[i]='make_synthetics=0 #Do not compute synthetics for a given model at given stations\\n'\n",
        "        if line[:6]=='invert':\n",
        "            if invert==True:\n",
        "                data[i]='invert=1  # =1 runs inversion, =0 does nothing\\n'\n",
        "            else:\n",
        "                data[i]='invert=0  # =1 runs inversion, =0 does nothing\\n'\n",
        "        if line[:12]=='project_name':\n",
        "            data[i]=\"project_name='\"+str(projectName)+\"'\\n\"\n",
        "    with open(str(directory)+'slipInversion.inv.py', 'w') as file:\n",
        "        file.writelines( data )\n",
        "    print('This might take some time, go grab something to eat ....')\n",
        "        \n",
        "    !python {directory}slipInversion.inv.py\n",
        "\n",
        "    '''\n",
        "    Modifies the main file that controls the inversion so that it no longer perform any task.\n",
        "    '''\n",
        "    with open(str(directory)+'slipInversion.inv.py', 'r') as file:\n",
        "        # read a list of lines into data\n",
        "        data = file.readlines()\n",
        "    for i, line in enumerate(data):\n",
        "        if line[:10]=='make_green':\n",
        "            data[i]='make_green=0 #Do not compute GFs\\n'\n",
        "        if line[:15]=='make_synthetics':\n",
        "            data[i]='make_synthetics=0 #Do not compute synthetics for a given model at given stations\\n'\n",
        "        if line[:6]=='invert':\n",
        "            data[i]='invert=0  # =1 runs inversion, =0 does nothing\\n'\n",
        "    with open(str(directory)+'slipInversion.inv.py', 'w') as file:\n",
        "        file.writelines( data )\n",
        "    \n",
        "###########################################Plotting Functions##############################################\n",
        "```\n",
        "\n"
      ],
      "metadata": {
        "id": "cpvlhdVHXE8k"
      }
    },
    {
      "cell_type": "code",
      "source": [
        "#/content/tremor_events-2011-10-01T00_00_00-2015-02-28T23_59_59.csv"
      ],
      "metadata": {
        "id": "-GLUbtmlXCTr"
      },
      "execution_count": null,
      "outputs": []
    }
  ]
}